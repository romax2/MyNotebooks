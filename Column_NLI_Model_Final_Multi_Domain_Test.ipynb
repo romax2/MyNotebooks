{
  "nbformat": 4,
  "nbformat_minor": 0,
  "metadata": {
    "colab": {
      "name": "Column NLI Model - Final - Multi Domain Test.ipynb",
      "provenance": [],
      "collapsed_sections": [],
      "include_colab_link": true
    },
    "kernelspec": {
      "name": "python3",
      "display_name": "Python 3"
    },
    "accelerator": "GPU"
  },
  "cells": [
    {
      "cell_type": "markdown",
      "metadata": {
        "id": "view-in-github",
        "colab_type": "text"
      },
      "source": [
        "<a href=\"https://colab.research.google.com/github/romax2/MyNotebooks/blob/main/Column_NLI_Model_Final_Multi_Domain_Test.ipynb\" target=\"_parent\"><img src=\"https://colab.research.google.com/assets/colab-badge.svg\" alt=\"Open In Colab\"/></a>"
      ]
    },
    {
      "cell_type": "markdown",
      "metadata": {
        "id": "EKOTlwcmxmej"
      },
      "source": [
        "# BERT Fine-Tuning Project Template\n",
        "By Mario Ramirez<br>\n",
        "*Revised on June 3, 2021"
      ]
    },
    {
      "cell_type": "markdown",
      "metadata": {
        "id": "RX_ZDhicpHkV"
      },
      "source": [
        "# 1. Setup"
      ]
    },
    {
      "cell_type": "markdown",
      "metadata": {
        "id": "Beg7Qq08yFH8"
      },
      "source": [
        "Check env device, connect to gdrive, installing transformers and importing libraries"
      ]
    },
    {
      "cell_type": "code",
      "metadata": {
        "colab": {
          "base_uri": "https://localhost:8080/"
        },
        "id": "1qdr85Yb4r72",
        "outputId": "033d9534-8ad7-4339-8218-a61d5b905f6b"
      },
      "source": [
        "#! mkdir './data/'\n",
        "#! mkdir './models/'\n",
        "#! ls -l\n",
        "#from google.colab import files\n",
        "#uploaded = files.upload()\n",
        "# source_folder = './data'\n",
        "# destination_folder = './models'\n",
        "from google.colab import drive\n",
        "drive.mount('/content/gdrive')"
      ],
      "execution_count": 141,
      "outputs": [
        {
          "output_type": "stream",
          "text": [
            "Drive already mounted at /content/gdrive; to attempt to forcibly remount, call drive.mount(\"/content/gdrive\", force_remount=True).\n"
          ],
          "name": "stdout"
        }
      ]
    },
    {
      "cell_type": "code",
      "metadata": {
        "id": "0NmMdkZO8R6q"
      },
      "source": [
        "#!pip install transformers --quiet\n",
        "!pip install transformers --quiet"
      ],
      "execution_count": 142,
      "outputs": []
    },
    {
      "cell_type": "code",
      "metadata": {
        "id": "2HM6qXur6eYT"
      },
      "source": [
        "!pip install umap-learn --quiet"
      ],
      "execution_count": 143,
      "outputs": []
    },
    {
      "cell_type": "code",
      "metadata": {
        "id": "jrRBjtHx6kfX"
      },
      "source": [
        "#!pip install hdbscan --quiet"
      ],
      "execution_count": 144,
      "outputs": []
    },
    {
      "cell_type": "code",
      "metadata": {
        "id": "HUACsSla7RkB"
      },
      "source": [
        "#!pip install sentence-transformers --quiet"
      ],
      "execution_count": 145,
      "outputs": []
    },
    {
      "cell_type": "code",
      "metadata": {
        "id": "NpdoQ_YGyQCs"
      },
      "source": [
        "# Libraries\n",
        "import time\n",
        "import datetime\n",
        "import matplotlib.pyplot as plt\n",
        "import pandas as pd\n",
        "import numpy as np\n",
        "import re\n",
        "import torch\n",
        "import random\n",
        "from sklearn.model_selection import train_test_split\n",
        "from sklearn.metrics import f1_score, classification_report\n",
        "# Preliminaries\n",
        "from torch.utils.data import TensorDataset, DataLoader, RandomSampler, SequentialSampler\n",
        "# Models\n",
        "import torch.nn as nn\n",
        "from transformers import BertTokenizer, BertForSequenceClassification\n",
        "from transformers import AdamW, get_linear_schedule_with_warmup\n",
        "# Training\n",
        "import torch.optim as optim\n",
        "# Evaluation\n",
        "from sklearn.metrics import accuracy_score, classification_report, confusion_matrix\n",
        "import seaborn as sns\n",
        "from tqdm.notebook import tqdm\n",
        "\n",
        "import umap"
      ],
      "execution_count": 146,
      "outputs": []
    },
    {
      "cell_type": "code",
      "metadata": {
        "colab": {
          "base_uri": "https://localhost:8080/"
        },
        "id": "VgLQKnEHu7MB",
        "outputId": "27279f28-473f-4ee4-a39d-3e872cf65d0c"
      },
      "source": [
        "DEVICE = torch.device('cuda:0' if torch.cuda.is_available() else 'cpu')\n",
        "print(DEVICE)"
      ],
      "execution_count": 147,
      "outputs": [
        {
          "output_type": "stream",
          "text": [
            "cuda:0\n"
          ],
          "name": "stdout"
        }
      ]
    },
    {
      "cell_type": "markdown",
      "metadata": {
        "id": "lxddqmruamSj"
      },
      "source": [
        "The code in this notebook is actually a simplified version of the [run_glue.py](https://github.com/huggingface/transformers/blob/master/examples/run_glue.py) example script from huggingface.\n",
        "\n",
        "`run_glue.py` is a helpful utility which allows you to pick which GLUE benchmark task you want to run on, and which pre-trained model you want to use (you can see the list of possible models [here](https://github.com/huggingface/transformers/blob/e6cff60b4cbc1158fbd6e4a1c3afda8dc224f566/examples/run_glue.py#L69)). It also supports using either the CPU, a single GPU, or multiple GPUs. It even supports using 16-bit precision if you want further speed up.\n",
        "\n",
        "Unfortunately, all of this configurability comes at the cost of *readability*. In this Notebook, we've simplified the code greatly and added plenty of comments to make it clear what's going on. "
      ]
    },
    {
      "cell_type": "markdown",
      "metadata": {
        "id": "guw6ZNtaswKc"
      },
      "source": [
        "# 2. Loading and setting up Dataset\n"
      ]
    },
    {
      "cell_type": "code",
      "metadata": {
        "id": "IygEiMSwPmG0",
        "outputId": "ecfce565-6ecd-48e9-a7cb-48d2ea6df4a8",
        "colab": {
          "base_uri": "https://localhost:8080/"
        }
      },
      "source": [
        "!pwd"
      ],
      "execution_count": 148,
      "outputs": [
        {
          "output_type": "stream",
          "text": [
            "/content/gdrive/My Drive/data\n"
          ],
          "name": "stdout"
        }
      ]
    },
    {
      "cell_type": "code",
      "metadata": {
        "id": "bnxPdSkGS1dp",
        "outputId": "fa50f4b5-bfd3-4e4a-93a1-68f1b25382ac",
        "colab": {
          "base_uri": "https://localhost:8080/"
        }
      },
      "source": [
        "!ls"
      ],
      "execution_count": 149,
      "outputs": [
        {
          "output_type": "stream",
          "text": [
            "clean_data\n",
            "columnBased-preprocessed-calderdalebusinessdata.csv\n",
            "columnBased-preprocessed.csv\n",
            "columnBased-preprocessed-domain.csv\n",
            "columnBased-preprocessed-foodhygiene.csv\n",
            "columnBased-preprocessed-foodhygieneSmall.csv\n",
            "columnBased-preprocessed-salaries.csv\n",
            "columnBased-preprocessed-salariesSmall.csv\n",
            "columnBased-preprocessed-small.csv\n",
            "columnBased-raw.csv\n",
            "frame\n",
            "NLI_GT_DATA.csv\n",
            "salaries.csv\n",
            "TableDataset20210527.csv\n",
            "tutorials\n"
          ],
          "name": "stdout"
        }
      ]
    },
    {
      "cell_type": "code",
      "metadata": {
        "colab": {
          "base_uri": "https://localhost:8080/"
        },
        "id": "AitOxy78X423",
        "outputId": "d523f36a-0ad9-4960-f305-e8986515d545"
      },
      "source": [
        "#source_folder = 'gdrive/MyDrive/data/'\n",
        "source_folder = '/content/gdrive/MyDrive/data/'\n",
        "destination_folder = 'gdrive/MyDrive/models/'\n",
        "raw_data = pd.read_csv(source_folder+\"clean_data/columnBased-preprocessed-pub.csv\")\n",
        "#raw_data.head()\n",
        "raw_data.shape"
      ],
      "execution_count": 150,
      "outputs": [
        {
          "output_type": "execute_result",
          "data": {
            "text/plain": [
              "(13041, 17)"
            ]
          },
          "metadata": {
            "tags": []
          },
          "execution_count": 150
        }
      ]
    },
    {
      "cell_type": "code",
      "metadata": {
        "colab": {
          "base_uri": "https://localhost:8080/"
        },
        "id": "OJZJ5HpUVjp0",
        "outputId": "c0d6cf4b-b29d-4d11-9086-15e1a39c28d6"
      },
      "source": [
        "dfg = raw_data.groupby(['collectionName'])['collectionName'].count()\n",
        "print(dfg)\n",
        "#dfg.plot(kind='bar', title='Data domains/collections', ylabel='Count', xlabel='dataset split', figsize=(6, 5))"
      ],
      "execution_count": 151,
      "outputs": [
        {
          "output_type": "stream",
          "text": [
            "collectionName\n",
            "calderdalebusinessdata     831\n",
            "foodhygiene               5422\n",
            "salaries                  6788\n",
            "Name: collectionName, dtype: int64\n"
          ],
          "name": "stdout"
        }
      ]
    },
    {
      "cell_type": "markdown",
      "metadata": {
        "id": "UybMJzP7kPho"
      },
      "source": [
        "#PerPublisher"
      ]
    },
    {
      "cell_type": "code",
      "metadata": {
        "id": "Z_tNtREdZBM_"
      },
      "source": [
        "def clean_data(data, cols):\n",
        "  for col_name in cols:\n",
        "    data[col_name] = data[col_name].apply(lambda v: re.sub(r\"[\\-,.;@#?!&$\\)\\(]+\\ *\", \" \", v.lower()))\n",
        "\n",
        "def split_data_func(data, collection_name):\n",
        "  data['data_type'] = ['train']*data.shape[0]\n",
        "  data.loc[data['collectionName'] == collection_name, 'data_type'] = 'val'\n",
        "  \n",
        "def print_data_summary(data):\n",
        "  dfg = data.groupby(['data_type'])['data_type'].count()\n",
        "  print(dfg)\n",
        "\n",
        "\n",
        "def split_data_by_publisher(data, publisher):\n",
        "  data['data_type'] = ['train']*data.shape[0]\n",
        "  data.loc[data['candidatePublisher'] == publisher, 'data_type'] = 'val'"
      ],
      "execution_count": 152,
      "outputs": []
    },
    {
      "cell_type": "code",
      "metadata": {
        "colab": {
          "base_uri": "https://localhost:8080/"
        },
        "id": "IvlLj9IbiC3q",
        "outputId": "5fb5e0a6-6156-40b3-d600-abea57c8ca94"
      },
      "source": [
        "perPublisher=True\n",
        "\n",
        "if perPublisher==True:\n",
        "  raw_data = raw_data[raw_data.collectionName == \"salaries\"]\n",
        "  dfg = raw_data.groupby(['collectionName'])['collectionName'].count()\n",
        "  print(dfg)\n",
        "  dfg = raw_data.groupby(['candidatePublisher'])['candidatePublisher'].count()\n",
        "  print(dfg)\n",
        "  #split_data_by_publisher(raw_data, 'Cabinet Office')\n",
        "  #split_data_by_publisher(raw_data, 'Ministry of Defence')\n",
        "  #split_data_by_publisher(raw_data, 'Department for Business, Innovation and Skills')\n",
        "  split_data_by_publisher(raw_data, 'UK Statistics Authority')\n",
        "else:\n",
        "  split_data_func(raw_data, 'salaries')\n",
        "  #split_data_func(raw_data, 'calderdalebusinessdata')\n",
        "  #split_data_func(raw_data, 'foodhygiene')"
      ],
      "execution_count": 153,
      "outputs": [
        {
          "output_type": "stream",
          "text": [
            "collectionName\n",
            "salaries    6788\n",
            "Name: collectionName, dtype: int64\n",
            "candidatePublisher\n",
            "Cabinet Office                                    2028\n",
            "Department for Business, Innovation and Skills     297\n",
            "Ministry of Defence                                803\n",
            "UK Statistics Authority                            292\n",
            "Name: candidatePublisher, dtype: int64\n"
          ],
          "name": "stdout"
        }
      ]
    },
    {
      "cell_type": "code",
      "metadata": {
        "colab": {
          "base_uri": "https://localhost:8080/",
          "height": 578
        },
        "id": "73JQ8NLvZ3sQ",
        "outputId": "52c9811c-1772-481d-d1a4-3c3fa0e6a43b"
      },
      "source": [
        "print_data_summary(raw_data)\n",
        "raw_data.head()\n",
        "\n",
        "\n"
      ],
      "execution_count": 154,
      "outputs": [
        {
          "output_type": "stream",
          "text": [
            "data_type\n",
            "train    6496\n",
            "val       292\n",
            "Name: data_type, dtype: int64\n"
          ],
          "name": "stdout"
        },
        {
          "output_type": "execute_result",
          "data": {
            "text/html": [
              "<div>\n",
              "<style scoped>\n",
              "    .dataframe tbody tr th:only-of-type {\n",
              "        vertical-align: middle;\n",
              "    }\n",
              "\n",
              "    .dataframe tbody tr th {\n",
              "        vertical-align: top;\n",
              "    }\n",
              "\n",
              "    .dataframe thead th {\n",
              "        text-align: right;\n",
              "    }\n",
              "</style>\n",
              "<table border=\"1\" class=\"dataframe\">\n",
              "  <thead>\n",
              "    <tr style=\"text-align: right;\">\n",
              "      <th></th>\n",
              "      <th>collectionName</th>\n",
              "      <th>gtKey</th>\n",
              "      <th>targetPublisher</th>\n",
              "      <th>target_ds</th>\n",
              "      <th>targetAttPrefix</th>\n",
              "      <th>targetKey</th>\n",
              "      <th>xt1</th>\n",
              "      <th>xt2</th>\n",
              "      <th>xt3</th>\n",
              "      <th>candidatePublisher</th>\n",
              "      <th>candidate_ds</th>\n",
              "      <th>candidateAttPrefix</th>\n",
              "      <th>candidateKey</th>\n",
              "      <th>yt1</th>\n",
              "      <th>yt2</th>\n",
              "      <th>yt3</th>\n",
              "      <th>value</th>\n",
              "      <th>data_type</th>\n",
              "    </tr>\n",
              "  </thead>\n",
              "  <tbody>\n",
              "    <tr>\n",
              "      <th>0</th>\n",
              "      <td>salaries</td>\n",
              "      <td>0G81FDQ_clxhxmv--0JUSLET_cpdoycs</td>\n",
              "      <td>NaN</td>\n",
              "      <td>0G81FDQ</td>\n",
              "      <td>clxhxmv</td>\n",
              "      <td>0G81FDQ_clxhxmv</td>\n",
              "      <td>Organisation is property of her majestys reven...</td>\n",
              "      <td>Organisation is property of her majestys reven...</td>\n",
              "      <td>Organisation is property of her majestys reven...</td>\n",
              "      <td>NaN</td>\n",
              "      <td>0JUSLET</td>\n",
              "      <td>cpdoycs</td>\n",
              "      <td>0JUSLET_cpdoycs</td>\n",
              "      <td>Payscale Minimum is property of 150930 Organog...</td>\n",
              "      <td>Payscale Minimum is property of 150930 Organog...</td>\n",
              "      <td>Payscale Minimum is property of 150930 Organog...</td>\n",
              "      <td>IND</td>\n",
              "      <td>train</td>\n",
              "    </tr>\n",
              "    <tr>\n",
              "      <th>1</th>\n",
              "      <td>salaries</td>\n",
              "      <td>0G81FDQ_clxhxmv--0JUSLET_jfcykcm</td>\n",
              "      <td>NaN</td>\n",
              "      <td>0G81FDQ</td>\n",
              "      <td>clxhxmv</td>\n",
              "      <td>0G81FDQ_clxhxmv</td>\n",
              "      <td>Organisation is property of her majestys reven...</td>\n",
              "      <td>Organisation is property of her majestys reven...</td>\n",
              "      <td>Organisation is property of her majestys reven...</td>\n",
              "      <td>NaN</td>\n",
              "      <td>0JUSLET</td>\n",
              "      <td>jfcykcm</td>\n",
              "      <td>0JUSLET_jfcykcm</td>\n",
              "      <td>Parent Department is property of 150930 Organo...</td>\n",
              "      <td>Parent Department is property of 150930 Organo...</td>\n",
              "      <td>Parent Department is property of 150930 Organo...</td>\n",
              "      <td>IND</td>\n",
              "      <td>train</td>\n",
              "    </tr>\n",
              "    <tr>\n",
              "      <th>2</th>\n",
              "      <td>salaries</td>\n",
              "      <td>0G81FDQ_clxhxmv--0JUSLET_jnmpagp</td>\n",
              "      <td>NaN</td>\n",
              "      <td>0G81FDQ</td>\n",
              "      <td>clxhxmv</td>\n",
              "      <td>0G81FDQ_clxhxmv</td>\n",
              "      <td>Organisation is property of her majestys reven...</td>\n",
              "      <td>Organisation is property of her majestys reven...</td>\n",
              "      <td>Organisation is property of her majestys reven...</td>\n",
              "      <td>NaN</td>\n",
              "      <td>0JUSLET</td>\n",
              "      <td>jnmpagp</td>\n",
              "      <td>0JUSLET_jnmpagp</td>\n",
              "      <td>Organisation is property of 150930 Organogram ...</td>\n",
              "      <td>Organisation is property of 150930 Organogram ...</td>\n",
              "      <td>Organisation is property of 150930 Organogram ...</td>\n",
              "      <td>ALT</td>\n",
              "      <td>train</td>\n",
              "    </tr>\n",
              "    <tr>\n",
              "      <th>3</th>\n",
              "      <td>salaries</td>\n",
              "      <td>0G81FDQ_clxhxmv--0JUSLET_liuxawt</td>\n",
              "      <td>NaN</td>\n",
              "      <td>0G81FDQ</td>\n",
              "      <td>clxhxmv</td>\n",
              "      <td>0G81FDQ_clxhxmv</td>\n",
              "      <td>Organisation is property of her majestys reven...</td>\n",
              "      <td>Organisation is property of her majestys reven...</td>\n",
              "      <td>Organisation is property of her majestys reven...</td>\n",
              "      <td>NaN</td>\n",
              "      <td>0JUSLET</td>\n",
              "      <td>liuxawt</td>\n",
              "      <td>0JUSLET_liuxawt</td>\n",
              "      <td>Reporting Senior Post is property of 150930 Or...</td>\n",
              "      <td>Reporting Senior Post is property of 150930 Or...</td>\n",
              "      <td>Reporting Senior Post is property of 150930 Or...</td>\n",
              "      <td>IND</td>\n",
              "      <td>train</td>\n",
              "    </tr>\n",
              "    <tr>\n",
              "      <th>4</th>\n",
              "      <td>salaries</td>\n",
              "      <td>0G81FDQ_clxhxmv--0JUSLET_mccsbjf</td>\n",
              "      <td>NaN</td>\n",
              "      <td>0G81FDQ</td>\n",
              "      <td>clxhxmv</td>\n",
              "      <td>0G81FDQ_clxhxmv</td>\n",
              "      <td>Organisation is property of her majestys reven...</td>\n",
              "      <td>Organisation is property of her majestys reven...</td>\n",
              "      <td>Organisation is property of her majestys reven...</td>\n",
              "      <td>NaN</td>\n",
              "      <td>0JUSLET</td>\n",
              "      <td>mccsbjf</td>\n",
              "      <td>0JUSLET_mccsbjf</td>\n",
              "      <td>Grade is property of 150930 Organogram Data Ho...</td>\n",
              "      <td>Grade is property of 150930 Organogram Data Ho...</td>\n",
              "      <td>Grade is property of 150930 Organogram Data Ho...</td>\n",
              "      <td>IND</td>\n",
              "      <td>train</td>\n",
              "    </tr>\n",
              "  </tbody>\n",
              "</table>\n",
              "</div>"
            ],
            "text/plain": [
              "  collectionName                             gtKey  ... value data_type\n",
              "0       salaries  0G81FDQ_clxhxmv--0JUSLET_cpdoycs  ...   IND     train\n",
              "1       salaries  0G81FDQ_clxhxmv--0JUSLET_jfcykcm  ...   IND     train\n",
              "2       salaries  0G81FDQ_clxhxmv--0JUSLET_jnmpagp  ...   ALT     train\n",
              "3       salaries  0G81FDQ_clxhxmv--0JUSLET_liuxawt  ...   IND     train\n",
              "4       salaries  0G81FDQ_clxhxmv--0JUSLET_mccsbjf  ...   IND     train\n",
              "\n",
              "[5 rows x 18 columns]"
            ]
          },
          "metadata": {
            "tags": []
          },
          "execution_count": 154
        }
      ]
    },
    {
      "cell_type": "code",
      "metadata": {
        "colab": {
          "base_uri": "https://localhost:8080/",
          "height": 510
        },
        "id": "raKNGsJ7byr8",
        "outputId": "81173c7f-0a8b-450b-d4c0-b5fd40eeb1e3"
      },
      "source": [
        "clean_data(raw_data, ['xt1','xt2','xt3','yt1','yt2','yt3',])\n",
        "raw_data.head()"
      ],
      "execution_count": 155,
      "outputs": [
        {
          "output_type": "execute_result",
          "data": {
            "text/html": [
              "<div>\n",
              "<style scoped>\n",
              "    .dataframe tbody tr th:only-of-type {\n",
              "        vertical-align: middle;\n",
              "    }\n",
              "\n",
              "    .dataframe tbody tr th {\n",
              "        vertical-align: top;\n",
              "    }\n",
              "\n",
              "    .dataframe thead th {\n",
              "        text-align: right;\n",
              "    }\n",
              "</style>\n",
              "<table border=\"1\" class=\"dataframe\">\n",
              "  <thead>\n",
              "    <tr style=\"text-align: right;\">\n",
              "      <th></th>\n",
              "      <th>collectionName</th>\n",
              "      <th>gtKey</th>\n",
              "      <th>targetPublisher</th>\n",
              "      <th>target_ds</th>\n",
              "      <th>targetAttPrefix</th>\n",
              "      <th>targetKey</th>\n",
              "      <th>xt1</th>\n",
              "      <th>xt2</th>\n",
              "      <th>xt3</th>\n",
              "      <th>candidatePublisher</th>\n",
              "      <th>candidate_ds</th>\n",
              "      <th>candidateAttPrefix</th>\n",
              "      <th>candidateKey</th>\n",
              "      <th>yt1</th>\n",
              "      <th>yt2</th>\n",
              "      <th>yt3</th>\n",
              "      <th>value</th>\n",
              "      <th>data_type</th>\n",
              "    </tr>\n",
              "  </thead>\n",
              "  <tbody>\n",
              "    <tr>\n",
              "      <th>0</th>\n",
              "      <td>salaries</td>\n",
              "      <td>0G81FDQ_clxhxmv--0JUSLET_cpdoycs</td>\n",
              "      <td>NaN</td>\n",
              "      <td>0G81FDQ</td>\n",
              "      <td>clxhxmv</td>\n",
              "      <td>0G81FDQ_clxhxmv</td>\n",
              "      <td>organisation is property of her majestys reven...</td>\n",
              "      <td>organisation is property of her majestys reven...</td>\n",
              "      <td>organisation is property of her majestys reven...</td>\n",
              "      <td>NaN</td>\n",
              "      <td>0JUSLET</td>\n",
              "      <td>cpdoycs</td>\n",
              "      <td>0JUSLET_cpdoycs</td>\n",
              "      <td>payscale minimum is property of 150930 organog...</td>\n",
              "      <td>payscale minimum is property of 150930 organog...</td>\n",
              "      <td>payscale minimum is property of 150930 organog...</td>\n",
              "      <td>IND</td>\n",
              "      <td>train</td>\n",
              "    </tr>\n",
              "    <tr>\n",
              "      <th>1</th>\n",
              "      <td>salaries</td>\n",
              "      <td>0G81FDQ_clxhxmv--0JUSLET_jfcykcm</td>\n",
              "      <td>NaN</td>\n",
              "      <td>0G81FDQ</td>\n",
              "      <td>clxhxmv</td>\n",
              "      <td>0G81FDQ_clxhxmv</td>\n",
              "      <td>organisation is property of her majestys reven...</td>\n",
              "      <td>organisation is property of her majestys reven...</td>\n",
              "      <td>organisation is property of her majestys reven...</td>\n",
              "      <td>NaN</td>\n",
              "      <td>0JUSLET</td>\n",
              "      <td>jfcykcm</td>\n",
              "      <td>0JUSLET_jfcykcm</td>\n",
              "      <td>parent department is property of 150930 organo...</td>\n",
              "      <td>parent department is property of 150930 organo...</td>\n",
              "      <td>parent department is property of 150930 organo...</td>\n",
              "      <td>IND</td>\n",
              "      <td>train</td>\n",
              "    </tr>\n",
              "    <tr>\n",
              "      <th>2</th>\n",
              "      <td>salaries</td>\n",
              "      <td>0G81FDQ_clxhxmv--0JUSLET_jnmpagp</td>\n",
              "      <td>NaN</td>\n",
              "      <td>0G81FDQ</td>\n",
              "      <td>clxhxmv</td>\n",
              "      <td>0G81FDQ_clxhxmv</td>\n",
              "      <td>organisation is property of her majestys reven...</td>\n",
              "      <td>organisation is property of her majestys reven...</td>\n",
              "      <td>organisation is property of her majestys reven...</td>\n",
              "      <td>NaN</td>\n",
              "      <td>0JUSLET</td>\n",
              "      <td>jnmpagp</td>\n",
              "      <td>0JUSLET_jnmpagp</td>\n",
              "      <td>organisation is property of 150930 organogram ...</td>\n",
              "      <td>organisation is property of 150930 organogram ...</td>\n",
              "      <td>organisation is property of 150930 organogram ...</td>\n",
              "      <td>ALT</td>\n",
              "      <td>train</td>\n",
              "    </tr>\n",
              "    <tr>\n",
              "      <th>3</th>\n",
              "      <td>salaries</td>\n",
              "      <td>0G81FDQ_clxhxmv--0JUSLET_liuxawt</td>\n",
              "      <td>NaN</td>\n",
              "      <td>0G81FDQ</td>\n",
              "      <td>clxhxmv</td>\n",
              "      <td>0G81FDQ_clxhxmv</td>\n",
              "      <td>organisation is property of her majestys reven...</td>\n",
              "      <td>organisation is property of her majestys reven...</td>\n",
              "      <td>organisation is property of her majestys reven...</td>\n",
              "      <td>NaN</td>\n",
              "      <td>0JUSLET</td>\n",
              "      <td>liuxawt</td>\n",
              "      <td>0JUSLET_liuxawt</td>\n",
              "      <td>reporting senior post is property of 150930 or...</td>\n",
              "      <td>reporting senior post is property of 150930 or...</td>\n",
              "      <td>reporting senior post is property of 150930 or...</td>\n",
              "      <td>IND</td>\n",
              "      <td>train</td>\n",
              "    </tr>\n",
              "    <tr>\n",
              "      <th>4</th>\n",
              "      <td>salaries</td>\n",
              "      <td>0G81FDQ_clxhxmv--0JUSLET_mccsbjf</td>\n",
              "      <td>NaN</td>\n",
              "      <td>0G81FDQ</td>\n",
              "      <td>clxhxmv</td>\n",
              "      <td>0G81FDQ_clxhxmv</td>\n",
              "      <td>organisation is property of her majestys reven...</td>\n",
              "      <td>organisation is property of her majestys reven...</td>\n",
              "      <td>organisation is property of her majestys reven...</td>\n",
              "      <td>NaN</td>\n",
              "      <td>0JUSLET</td>\n",
              "      <td>mccsbjf</td>\n",
              "      <td>0JUSLET_mccsbjf</td>\n",
              "      <td>grade is property of 150930 organogram data ho...</td>\n",
              "      <td>grade is property of 150930 organogram data ho...</td>\n",
              "      <td>grade is property of 150930 organogram data ho...</td>\n",
              "      <td>IND</td>\n",
              "      <td>train</td>\n",
              "    </tr>\n",
              "  </tbody>\n",
              "</table>\n",
              "</div>"
            ],
            "text/plain": [
              "  collectionName                             gtKey  ... value data_type\n",
              "0       salaries  0G81FDQ_clxhxmv--0JUSLET_cpdoycs  ...   IND     train\n",
              "1       salaries  0G81FDQ_clxhxmv--0JUSLET_jfcykcm  ...   IND     train\n",
              "2       salaries  0G81FDQ_clxhxmv--0JUSLET_jnmpagp  ...   ALT     train\n",
              "3       salaries  0G81FDQ_clxhxmv--0JUSLET_liuxawt  ...   IND     train\n",
              "4       salaries  0G81FDQ_clxhxmv--0JUSLET_mccsbjf  ...   IND     train\n",
              "\n",
              "[5 rows x 18 columns]"
            ]
          },
          "metadata": {
            "tags": []
          },
          "execution_count": 155
        }
      ]
    },
    {
      "cell_type": "code",
      "metadata": {
        "colab": {
          "base_uri": "https://localhost:8080/",
          "height": 877
        },
        "id": "OiU6aQOX4IaW",
        "outputId": "13cebb0b-c529-4131-bf31-80685cde70a8"
      },
      "source": [
        "dfg = raw_data.groupby(['value'])['value'].count()\n",
        "dfg.plot(kind='bar', title='Data distribution', ylabel='Count', xlabel='Entailment Relation', figsize=(6, 5))\n",
        "raw_data.head()"
      ],
      "execution_count": 156,
      "outputs": [
        {
          "output_type": "execute_result",
          "data": {
            "text/html": [
              "<div>\n",
              "<style scoped>\n",
              "    .dataframe tbody tr th:only-of-type {\n",
              "        vertical-align: middle;\n",
              "    }\n",
              "\n",
              "    .dataframe tbody tr th {\n",
              "        vertical-align: top;\n",
              "    }\n",
              "\n",
              "    .dataframe thead th {\n",
              "        text-align: right;\n",
              "    }\n",
              "</style>\n",
              "<table border=\"1\" class=\"dataframe\">\n",
              "  <thead>\n",
              "    <tr style=\"text-align: right;\">\n",
              "      <th></th>\n",
              "      <th>collectionName</th>\n",
              "      <th>gtKey</th>\n",
              "      <th>targetPublisher</th>\n",
              "      <th>target_ds</th>\n",
              "      <th>targetAttPrefix</th>\n",
              "      <th>targetKey</th>\n",
              "      <th>xt1</th>\n",
              "      <th>xt2</th>\n",
              "      <th>xt3</th>\n",
              "      <th>candidatePublisher</th>\n",
              "      <th>candidate_ds</th>\n",
              "      <th>candidateAttPrefix</th>\n",
              "      <th>candidateKey</th>\n",
              "      <th>yt1</th>\n",
              "      <th>yt2</th>\n",
              "      <th>yt3</th>\n",
              "      <th>value</th>\n",
              "      <th>data_type</th>\n",
              "    </tr>\n",
              "  </thead>\n",
              "  <tbody>\n",
              "    <tr>\n",
              "      <th>0</th>\n",
              "      <td>salaries</td>\n",
              "      <td>0G81FDQ_clxhxmv--0JUSLET_cpdoycs</td>\n",
              "      <td>NaN</td>\n",
              "      <td>0G81FDQ</td>\n",
              "      <td>clxhxmv</td>\n",
              "      <td>0G81FDQ_clxhxmv</td>\n",
              "      <td>organisation is property of her majestys reven...</td>\n",
              "      <td>organisation is property of her majestys reven...</td>\n",
              "      <td>organisation is property of her majestys reven...</td>\n",
              "      <td>NaN</td>\n",
              "      <td>0JUSLET</td>\n",
              "      <td>cpdoycs</td>\n",
              "      <td>0JUSLET_cpdoycs</td>\n",
              "      <td>payscale minimum is property of 150930 organog...</td>\n",
              "      <td>payscale minimum is property of 150930 organog...</td>\n",
              "      <td>payscale minimum is property of 150930 organog...</td>\n",
              "      <td>IND</td>\n",
              "      <td>train</td>\n",
              "    </tr>\n",
              "    <tr>\n",
              "      <th>1</th>\n",
              "      <td>salaries</td>\n",
              "      <td>0G81FDQ_clxhxmv--0JUSLET_jfcykcm</td>\n",
              "      <td>NaN</td>\n",
              "      <td>0G81FDQ</td>\n",
              "      <td>clxhxmv</td>\n",
              "      <td>0G81FDQ_clxhxmv</td>\n",
              "      <td>organisation is property of her majestys reven...</td>\n",
              "      <td>organisation is property of her majestys reven...</td>\n",
              "      <td>organisation is property of her majestys reven...</td>\n",
              "      <td>NaN</td>\n",
              "      <td>0JUSLET</td>\n",
              "      <td>jfcykcm</td>\n",
              "      <td>0JUSLET_jfcykcm</td>\n",
              "      <td>parent department is property of 150930 organo...</td>\n",
              "      <td>parent department is property of 150930 organo...</td>\n",
              "      <td>parent department is property of 150930 organo...</td>\n",
              "      <td>IND</td>\n",
              "      <td>train</td>\n",
              "    </tr>\n",
              "    <tr>\n",
              "      <th>2</th>\n",
              "      <td>salaries</td>\n",
              "      <td>0G81FDQ_clxhxmv--0JUSLET_jnmpagp</td>\n",
              "      <td>NaN</td>\n",
              "      <td>0G81FDQ</td>\n",
              "      <td>clxhxmv</td>\n",
              "      <td>0G81FDQ_clxhxmv</td>\n",
              "      <td>organisation is property of her majestys reven...</td>\n",
              "      <td>organisation is property of her majestys reven...</td>\n",
              "      <td>organisation is property of her majestys reven...</td>\n",
              "      <td>NaN</td>\n",
              "      <td>0JUSLET</td>\n",
              "      <td>jnmpagp</td>\n",
              "      <td>0JUSLET_jnmpagp</td>\n",
              "      <td>organisation is property of 150930 organogram ...</td>\n",
              "      <td>organisation is property of 150930 organogram ...</td>\n",
              "      <td>organisation is property of 150930 organogram ...</td>\n",
              "      <td>ALT</td>\n",
              "      <td>train</td>\n",
              "    </tr>\n",
              "    <tr>\n",
              "      <th>3</th>\n",
              "      <td>salaries</td>\n",
              "      <td>0G81FDQ_clxhxmv--0JUSLET_liuxawt</td>\n",
              "      <td>NaN</td>\n",
              "      <td>0G81FDQ</td>\n",
              "      <td>clxhxmv</td>\n",
              "      <td>0G81FDQ_clxhxmv</td>\n",
              "      <td>organisation is property of her majestys reven...</td>\n",
              "      <td>organisation is property of her majestys reven...</td>\n",
              "      <td>organisation is property of her majestys reven...</td>\n",
              "      <td>NaN</td>\n",
              "      <td>0JUSLET</td>\n",
              "      <td>liuxawt</td>\n",
              "      <td>0JUSLET_liuxawt</td>\n",
              "      <td>reporting senior post is property of 150930 or...</td>\n",
              "      <td>reporting senior post is property of 150930 or...</td>\n",
              "      <td>reporting senior post is property of 150930 or...</td>\n",
              "      <td>IND</td>\n",
              "      <td>train</td>\n",
              "    </tr>\n",
              "    <tr>\n",
              "      <th>4</th>\n",
              "      <td>salaries</td>\n",
              "      <td>0G81FDQ_clxhxmv--0JUSLET_mccsbjf</td>\n",
              "      <td>NaN</td>\n",
              "      <td>0G81FDQ</td>\n",
              "      <td>clxhxmv</td>\n",
              "      <td>0G81FDQ_clxhxmv</td>\n",
              "      <td>organisation is property of her majestys reven...</td>\n",
              "      <td>organisation is property of her majestys reven...</td>\n",
              "      <td>organisation is property of her majestys reven...</td>\n",
              "      <td>NaN</td>\n",
              "      <td>0JUSLET</td>\n",
              "      <td>mccsbjf</td>\n",
              "      <td>0JUSLET_mccsbjf</td>\n",
              "      <td>grade is property of 150930 organogram data ho...</td>\n",
              "      <td>grade is property of 150930 organogram data ho...</td>\n",
              "      <td>grade is property of 150930 organogram data ho...</td>\n",
              "      <td>IND</td>\n",
              "      <td>train</td>\n",
              "    </tr>\n",
              "  </tbody>\n",
              "</table>\n",
              "</div>"
            ],
            "text/plain": [
              "  collectionName                             gtKey  ... value data_type\n",
              "0       salaries  0G81FDQ_clxhxmv--0JUSLET_cpdoycs  ...   IND     train\n",
              "1       salaries  0G81FDQ_clxhxmv--0JUSLET_jfcykcm  ...   IND     train\n",
              "2       salaries  0G81FDQ_clxhxmv--0JUSLET_jnmpagp  ...   ALT     train\n",
              "3       salaries  0G81FDQ_clxhxmv--0JUSLET_liuxawt  ...   IND     train\n",
              "4       salaries  0G81FDQ_clxhxmv--0JUSLET_mccsbjf  ...   IND     train\n",
              "\n",
              "[5 rows x 18 columns]"
            ]
          },
          "metadata": {
            "tags": []
          },
          "execution_count": 156
        },
        {
          "output_type": "display_data",
          "data": {
            "image/png": "[encoded data removed]",
            "text/plain": [
              "<Figure size 432x360 with 1 Axes>"
            ]
          },
          "metadata": {
            "tags": []
          }
        }
      ]
    },
    {
      "cell_type": "markdown",
      "metadata": {
        "id": "oQUy9Tat2EF_"
      },
      "source": [
        "## 2.2. Parse"
      ]
    },
    {
      "cell_type": "markdown",
      "metadata": {
        "id": "xeyVCXT31EZQ"
      },
      "source": [
        "Clean up descriptors in dataset, remove unwanted columns from dataframe."
      ]
    },
    {
      "cell_type": "markdown",
      "metadata": {
        "id": "x2IwVKFw7kFS"
      },
      "source": [
        "Spliting into training and validation sets"
      ]
    },
    {
      "cell_type": "code",
      "metadata": {
        "colab": {
          "base_uri": "https://localhost:8080/",
          "height": 221
        },
        "id": "2u3idPIJ6t7l",
        "outputId": "c44d51d4-1275-488b-d8b4-6835918af7a1"
      },
      "source": [
        "#DATA SPLIT\n",
        "label_dict = {label: i for i, label in enumerate(raw_data.value.unique())}\n",
        "print(label_dict)\n",
        "\n",
        "#BEFORE\n",
        "#raw_data['data_type'] = ['not_set']*raw_data.shape[0]\n",
        "#raw_data.loc[X_train, 'data_type'] = 'train'\n",
        "#raw_data.loc[X_val, 'data_type'] = 'val'\n",
        "\n",
        "#AFTER\n",
        "#raw_data['data_type'] = ['not_set']*raw_data.shape[0]\n",
        "\n",
        "raw_data['label'] = raw_data.value.replace(label_dict)\n",
        "raw_data.groupby(['value', 'data_type']).count()"
      ],
      "execution_count": 157,
      "outputs": [
        {
          "output_type": "stream",
          "text": [
            "{'IND': 0, 'ALT': 1, 'EQ': 2}\n"
          ],
          "name": "stdout"
        },
        {
          "output_type": "execute_result",
          "data": {
            "text/html": [
              "<div>\n",
              "<style scoped>\n",
              "    .dataframe tbody tr th:only-of-type {\n",
              "        vertical-align: middle;\n",
              "    }\n",
              "\n",
              "    .dataframe tbody tr th {\n",
              "        vertical-align: top;\n",
              "    }\n",
              "\n",
              "    .dataframe thead th {\n",
              "        text-align: right;\n",
              "    }\n",
              "</style>\n",
              "<table border=\"1\" class=\"dataframe\">\n",
              "  <thead>\n",
              "    <tr style=\"text-align: right;\">\n",
              "      <th></th>\n",
              "      <th></th>\n",
              "      <th>collectionName</th>\n",
              "      <th>gtKey</th>\n",
              "      <th>targetPublisher</th>\n",
              "      <th>target_ds</th>\n",
              "      <th>targetAttPrefix</th>\n",
              "      <th>targetKey</th>\n",
              "      <th>xt1</th>\n",
              "      <th>xt2</th>\n",
              "      <th>xt3</th>\n",
              "      <th>candidatePublisher</th>\n",
              "      <th>candidate_ds</th>\n",
              "      <th>candidateAttPrefix</th>\n",
              "      <th>candidateKey</th>\n",
              "      <th>yt1</th>\n",
              "      <th>yt2</th>\n",
              "      <th>yt3</th>\n",
              "      <th>label</th>\n",
              "    </tr>\n",
              "    <tr>\n",
              "      <th>value</th>\n",
              "      <th>data_type</th>\n",
              "      <th></th>\n",
              "      <th></th>\n",
              "      <th></th>\n",
              "      <th></th>\n",
              "      <th></th>\n",
              "      <th></th>\n",
              "      <th></th>\n",
              "      <th></th>\n",
              "      <th></th>\n",
              "      <th></th>\n",
              "      <th></th>\n",
              "      <th></th>\n",
              "      <th></th>\n",
              "      <th></th>\n",
              "      <th></th>\n",
              "      <th></th>\n",
              "      <th></th>\n",
              "    </tr>\n",
              "  </thead>\n",
              "  <tbody>\n",
              "    <tr>\n",
              "      <th rowspan=\"2\" valign=\"top\">ALT</th>\n",
              "      <th>train</th>\n",
              "      <td>3848</td>\n",
              "      <td>3848</td>\n",
              "      <td>0</td>\n",
              "      <td>3848</td>\n",
              "      <td>3848</td>\n",
              "      <td>3848</td>\n",
              "      <td>3848</td>\n",
              "      <td>3848</td>\n",
              "      <td>3848</td>\n",
              "      <td>1898</td>\n",
              "      <td>3848</td>\n",
              "      <td>3848</td>\n",
              "      <td>3848</td>\n",
              "      <td>3848</td>\n",
              "      <td>3848</td>\n",
              "      <td>3848</td>\n",
              "      <td>3848</td>\n",
              "    </tr>\n",
              "    <tr>\n",
              "      <th>val</th>\n",
              "      <td>292</td>\n",
              "      <td>292</td>\n",
              "      <td>0</td>\n",
              "      <td>292</td>\n",
              "      <td>292</td>\n",
              "      <td>292</td>\n",
              "      <td>292</td>\n",
              "      <td>292</td>\n",
              "      <td>292</td>\n",
              "      <td>292</td>\n",
              "      <td>292</td>\n",
              "      <td>292</td>\n",
              "      <td>292</td>\n",
              "      <td>292</td>\n",
              "      <td>292</td>\n",
              "      <td>292</td>\n",
              "      <td>292</td>\n",
              "    </tr>\n",
              "    <tr>\n",
              "      <th>EQ</th>\n",
              "      <th>train</th>\n",
              "      <td>2606</td>\n",
              "      <td>2606</td>\n",
              "      <td>1225</td>\n",
              "      <td>2606</td>\n",
              "      <td>2606</td>\n",
              "      <td>2606</td>\n",
              "      <td>2606</td>\n",
              "      <td>2606</td>\n",
              "      <td>2606</td>\n",
              "      <td>1225</td>\n",
              "      <td>2606</td>\n",
              "      <td>2606</td>\n",
              "      <td>2606</td>\n",
              "      <td>2606</td>\n",
              "      <td>2606</td>\n",
              "      <td>2606</td>\n",
              "      <td>2606</td>\n",
              "    </tr>\n",
              "    <tr>\n",
              "      <th>IND</th>\n",
              "      <th>train</th>\n",
              "      <td>42</td>\n",
              "      <td>42</td>\n",
              "      <td>0</td>\n",
              "      <td>42</td>\n",
              "      <td>42</td>\n",
              "      <td>42</td>\n",
              "      <td>42</td>\n",
              "      <td>42</td>\n",
              "      <td>42</td>\n",
              "      <td>5</td>\n",
              "      <td>42</td>\n",
              "      <td>42</td>\n",
              "      <td>42</td>\n",
              "      <td>42</td>\n",
              "      <td>42</td>\n",
              "      <td>42</td>\n",
              "      <td>42</td>\n",
              "    </tr>\n",
              "  </tbody>\n",
              "</table>\n",
              "</div>"
            ],
            "text/plain": [
              "                 collectionName  gtKey  targetPublisher  ...   yt2   yt3  label\n",
              "value data_type                                          ...                   \n",
              "ALT   train                3848   3848                0  ...  3848  3848   3848\n",
              "      val                   292    292                0  ...   292   292    292\n",
              "EQ    train                2606   2606             1225  ...  2606  2606   2606\n",
              "IND   train                  42     42                0  ...    42    42     42\n",
              "\n",
              "[4 rows x 17 columns]"
            ]
          },
          "metadata": {
            "tags": []
          },
          "execution_count": 157
        }
      ]
    },
    {
      "cell_type": "markdown",
      "metadata": {
        "id": "4SMZ5T5Imhlx"
      },
      "source": [
        "\n",
        "\n",
        "Let's extract the sentences and labels of our training set as numpy ndarrays."
      ]
    },
    {
      "cell_type": "markdown",
      "metadata": {
        "id": "ex5O1eV-Pfct"
      },
      "source": [
        "# 3. Tokenization & Input Formatting\n",
        "\n",
        "In this section, we'll transform our dataset into the format that BERT can be trained on."
      ]
    },
    {
      "cell_type": "code",
      "metadata": {
        "colab": {
          "base_uri": "https://localhost:8080/"
        },
        "id": "ldgNb_WS87dD",
        "outputId": "c85bfe5c-b280-4c62-b9c8-58972f1018d3"
      },
      "source": [
        "print('Loading BERT tokenizer...')\n",
        "tokenizer = BertTokenizer.from_pretrained('bert-base-uncased', do_lower_case=True)"
      ],
      "execution_count": 158,
      "outputs": [
        {
          "output_type": "stream",
          "text": [
            "Loading BERT tokenizer...\n"
          ],
          "name": "stdout"
        }
      ]
    },
    {
      "cell_type": "code",
      "metadata": {
        "colab": {
          "base_uri": "https://localhost:8080/"
        },
        "id": "gSeuas069aEa",
        "outputId": "117c3818-3000-4200-8a8f-398909e894b8"
      },
      "source": [
        "# Get the lists of sentences and their labels.\n",
        "txsentences = raw_data.xt3.values\n",
        "tysentences = raw_data.yt3.values\n",
        "#labels = df.label.values\n",
        "print(' Original: ', txsentences[0])\n",
        "print('Tokenized: ', tokenizer.tokenize(txsentences[0]))\n",
        "print('Token IDs: ', tokenizer.convert_tokens_to_ids(tokenizer.tokenize(txsentences[0])))\n",
        "\n",
        "\n"
      ],
      "execution_count": 159,
      "outputs": [
        {
          "output_type": "stream",
          "text": [
            " Original:  organisation is property of her majestys revenue and customs 30 09 2011 hmrc 300911 hmrc organogram final junior and is related to parent department and unit and has values her majesty's revenue and customs\n",
            "Tokenized:  ['organisation', 'is', 'property', 'of', 'her', 'majesty', '##s', 'revenue', 'and', 'customs', '30', '09', '2011', 'hm', '##rc', '300', '##9', '##11', 'hm', '##rc', 'organ', '##og', '##ram', 'final', 'junior', 'and', 'is', 'related', 'to', 'parent', 'department', 'and', 'unit', 'and', 'has', 'values', 'her', 'majesty', \"'\", 's', 'revenue', 'and', 'customs']\n",
            "Token IDs:  [5502, 2003, 3200, 1997, 2014, 9995, 2015, 6599, 1998, 8205, 2382, 5641, 2249, 20287, 11890, 3998, 2683, 14526, 20287, 11890, 5812, 8649, 6444, 2345, 3502, 1998, 2003, 3141, 2000, 6687, 2533, 1998, 3131, 1998, 2038, 5300, 2014, 9995, 1005, 1055, 6599, 1998, 8205]\n"
          ],
          "name": "stdout"
        }
      ]
    },
    {
      "cell_type": "code",
      "metadata": {
        "colab": {
          "base_uri": "https://localhost:8080/"
        },
        "id": "WOk_a-Cx-mlp",
        "outputId": "cfe00699-7745-45d2-a8fe-e9e726d58086"
      },
      "source": [
        "max_l = 0\n",
        "\n",
        "for sent in txsentences:\n",
        "    input_ids = tokenizer.encode(sent, add_special_tokens=True) # Tokenize the text and add `[CLS]` and `[SEP]` tokens.\n",
        "    max_l = max(max_l, len(input_ids))    # Update the maximum sentence length.\n",
        "\n",
        "for sent in tysentences:\n",
        "    input_ids = tokenizer.encode(sent, add_special_tokens=True)\n",
        "    max_l = max(max_l, len(input_ids))\n",
        "\n",
        "print('Max sentence length: ', max_l)"
      ],
      "execution_count": 160,
      "outputs": [
        {
          "output_type": "stream",
          "text": [
            "Max sentence length:  229\n"
          ],
          "name": "stdout"
        }
      ]
    },
    {
      "cell_type": "markdown",
      "metadata": {
        "id": "Ld4pu9dg99A3"
      },
      "source": [
        "Tokenizing all dataset will:\n",
        "  (1) Tokenize the sentence.<br>\n",
        "  (2) Prepend the `[CLS]` token to the start.<br>\n",
        "  (3) Append the `[SEP]` token to the end.<br>\n",
        "  (4) Map tokens to their IDs.<br>\n",
        "  (5) Pad or truncate the sentence to `max_length`<br>\n",
        "  (6) Create attention masks for [PAD] tokens.<br>"
      ]
    },
    {
      "cell_type": "code",
      "metadata": {
        "id": "0Z3ft3IM-AzN"
      },
      "source": [
        "max_len = 256\n",
        "#max_len = 128\n",
        "encoded_data_train = tokenizer.batch_encode_plus(zip(raw_data[raw_data.data_type=='train'].xt3.values.tolist(), raw_data[raw_data.data_type=='train'].yt3.values.tolist()), \n",
        "                                                 is_split_into_words=False, \n",
        "                                                 padding=True,\n",
        "                                                 add_special_tokens=True, # Add '[CLS]' and '[SEP]'\n",
        "                                                 return_attention_mask=True,# Construct attn. masks.\n",
        "                                                 max_length=max_len,# Pad & truncate all sentences.\n",
        "                                                 return_tensors='pt')# Return pytorch tensors.\n",
        "input_ids_train = encoded_data_train['input_ids']\n",
        "attention_masks_train = encoded_data_train['attention_mask']\n",
        "labels_train = torch.tensor(raw_data[raw_data.data_type=='train'].label.values)\n",
        "\n",
        "encoded_data_val = tokenizer.batch_encode_plus(zip(raw_data[raw_data.data_type=='val'].xt3.values.tolist(), raw_data[raw_data.data_type=='val'].yt3.values.tolist()),\n",
        "                                               is_split_into_words=False, \n",
        "                                               padding=True,\n",
        "                                               add_special_tokens=True,\n",
        "                                               return_attention_mask=True,\n",
        "                                               max_length=max_len,\n",
        "                                               return_tensors='pt')\n",
        "input_ids_val = encoded_data_val['input_ids']\n",
        "attention_masks_val = encoded_data_val['attention_mask']\n",
        "labels_val = torch.tensor(raw_data[raw_data.data_type=='val'].label.values)"
      ],
      "execution_count": 161,
      "outputs": []
    },
    {
      "cell_type": "markdown",
      "metadata": {
        "id": "DEUSEhoqDmUo"
      },
      "source": [
        "Visual Characterization"
      ]
    },
    {
      "cell_type": "code",
      "metadata": {
        "colab": {
          "base_uri": "https://localhost:8080/"
        },
        "id": "xOp4opzNCYe4",
        "outputId": "cf026639-163a-49da-d2cc-fa3b0e428961"
      },
      "source": [
        "dataset_train = TensorDataset(input_ids_train, attention_masks_train, labels_train)\n",
        "dataset_val = TensorDataset(input_ids_val, attention_masks_val, labels_val)\n",
        "len(dataset_train), len(dataset_val)"
      ],
      "execution_count": 162,
      "outputs": [
        {
          "output_type": "execute_result",
          "data": {
            "text/plain": [
              "(6496, 292)"
            ]
          },
          "metadata": {
            "tags": []
          },
          "execution_count": 162
        }
      ]
    },
    {
      "cell_type": "markdown",
      "metadata": {
        "id": "q_p9KetCC3G1"
      },
      "source": [
        "Create dataset iterator by using torch DataLoader class. This avoids loading the dataset into memory, which is memory efficient."
      ]
    },
    {
      "cell_type": "code",
      "metadata": {
        "id": "hLYAzLf8C6Af"
      },
      "source": [
        "BATCH_SIZE = 3 #DataLoader needs to know this (BERT recomendation is 16 or 32)\n",
        "#BATCH_SIZE = 16 #DataLoader needs to know this (BERT recomendation is 16 or 32)\n",
        "\n",
        "dataloader_train = DataLoader(dataset_train, #training samples\n",
        "                              sampler=RandomSampler(dataset_train), #select batches randomly\n",
        "                              batch_size=BATCH_SIZE)#train with this batch size\n",
        "dataloader_validation = DataLoader(dataset_val, #validation samples\n",
        "                                   sampler=SequentialSampler(dataset_val), #take batches sequentially\n",
        "                                   batch_size=BATCH_SIZE)# evaluate using this batch size"
      ],
      "execution_count": 163,
      "outputs": []
    },
    {
      "cell_type": "markdown",
      "metadata": {
        "id": "8bwa6Rts-02-"
      },
      "source": [
        "# 4. Set up Classification Model"
      ]
    },
    {
      "cell_type": "markdown",
      "metadata": {
        "id": "3xYQ3iLO08SX"
      },
      "source": [
        "Configuring model..."
      ]
    },
    {
      "cell_type": "code",
      "metadata": {
        "colab": {
          "base_uri": "https://localhost:8080/"
        },
        "id": "u_YUH6r7ENjW",
        "outputId": "b5c64d14-5227-4915-9e91-b3213b57be87"
      },
      "source": [
        "EPOCHS = 5\n",
        "model = BertForSequenceClassification.from_pretrained(\"bert-base-uncased\",  #Use 12-layer BERT model, with uncased vocab.\n",
        "                                                      num_labels=len(label_dict), #number of output labels\n",
        "                                                      output_attentions=False, #Whether model returns attentions weights\n",
        "                                                      output_hidden_states=False)#Whether the model returns all hidden-states\n",
        "\n",
        "#Weight Decay fix\n",
        "optimizer = AdamW(model.parameters(), \n",
        "                  lr=1e-5, # args.learning_rate - default is 5e-5, our notebook had 2e-5\n",
        "                  eps=1e-8)# args.adam_epsilon  - default is 1e-8.\n",
        "\n",
        "#learning rate scheduler\n",
        "scheduler = get_linear_schedule_with_warmup(optimizer, num_warmup_steps=0, num_training_steps=len(dataloader_train)*EPOCHS)\n",
        "\n",
        "model.cuda()                                                      "
      ],
      "execution_count": 164,
      "outputs": [
        {
          "output_type": "stream",
          "text": [
            "Some weights of the model checkpoint at bert-base-uncased were not used when initializing BertForSequenceClassification: ['cls.seq_relationship.bias', 'cls.predictions.transform.dense.bias', 'cls.predictions.transform.LayerNorm.bias', 'cls.predictions.decoder.weight', 'cls.seq_relationship.weight', 'cls.predictions.bias', 'cls.predictions.transform.dense.weight', 'cls.predictions.transform.LayerNorm.weight']\n",
            "- This IS expected if you are initializing BertForSequenceClassification from the checkpoint of a model trained on another task or with another architecture (e.g. initializing a BertForSequenceClassification model from a BertForPreTraining model).\n",
            "- This IS NOT expected if you are initializing BertForSequenceClassification from the checkpoint of a model that you expect to be exactly identical (initializing a BertForSequenceClassification model from a BertForSequenceClassification model).\n",
            "Some weights of BertForSequenceClassification were not initialized from the model checkpoint at bert-base-uncased and are newly initialized: ['classifier.weight', 'classifier.bias']\n",
            "You should probably TRAIN this model on a down-stream task to be able to use it for predictions and inference.\n"
          ],
          "name": "stderr"
        },
        {
          "output_type": "execute_result",
          "data": {
            "text/plain": [
              "BertForSequenceClassification(\n",
              "  (bert): BertModel(\n",
              "    (embeddings): BertEmbeddings(\n",
              "      (word_embeddings): Embedding(30522, 768, padding_idx=0)\n",
              "      (position_embeddings): Embedding(512, 768)\n",
              "      (token_type_embeddings): Embedding(2, 768)\n",
              "      (LayerNorm): LayerNorm((768,), eps=1e-12, elementwise_affine=True)\n",
              "      (dropout): Dropout(p=0.1, inplace=False)\n",
              "    )\n",
              "    (encoder): BertEncoder(\n",
              "      (layer): ModuleList(\n",
              "        (0): BertLayer(\n",
              "          (attention): BertAttention(\n",
              "            (self): BertSelfAttention(\n",
              "              (query): Linear(in_features=768, out_features=768, bias=True)\n",
              "              (key): Linear(in_features=768, out_features=768, bias=True)\n",
              "              (value): Linear(in_features=768, out_features=768, bias=True)\n",
              "              (dropout): Dropout(p=0.1, inplace=False)\n",
              "            )\n",
              "            (output): BertSelfOutput(\n",
              "              (dense): Linear(in_features=768, out_features=768, bias=True)\n",
              "              (LayerNorm): LayerNorm((768,), eps=1e-12, elementwise_affine=True)\n",
              "              (dropout): Dropout(p=0.1, inplace=False)\n",
              "            )\n",
              "          )\n",
              "          (intermediate): BertIntermediate(\n",
              "            (dense): Linear(in_features=768, out_features=3072, bias=True)\n",
              "          )\n",
              "          (output): BertOutput(\n",
              "            (dense): Linear(in_features=3072, out_features=768, bias=True)\n",
              "            (LayerNorm): LayerNorm((768,), eps=1e-12, elementwise_affine=True)\n",
              "            (dropout): Dropout(p=0.1, inplace=False)\n",
              "          )\n",
              "        )\n",
              "        (1): BertLayer(\n",
              "          (attention): BertAttention(\n",
              "            (self): BertSelfAttention(\n",
              "              (query): Linear(in_features=768, out_features=768, bias=True)\n",
              "              (key): Linear(in_features=768, out_features=768, bias=True)\n",
              "              (value): Linear(in_features=768, out_features=768, bias=True)\n",
              "              (dropout): Dropout(p=0.1, inplace=False)\n",
              "            )\n",
              "            (output): BertSelfOutput(\n",
              "              (dense): Linear(in_features=768, out_features=768, bias=True)\n",
              "              (LayerNorm): LayerNorm((768,), eps=1e-12, elementwise_affine=True)\n",
              "              (dropout): Dropout(p=0.1, inplace=False)\n",
              "            )\n",
              "          )\n",
              "          (intermediate): BertIntermediate(\n",
              "            (dense): Linear(in_features=768, out_features=3072, bias=True)\n",
              "          )\n",
              "          (output): BertOutput(\n",
              "            (dense): Linear(in_features=3072, out_features=768, bias=True)\n",
              "            (LayerNorm): LayerNorm((768,), eps=1e-12, elementwise_affine=True)\n",
              "            (dropout): Dropout(p=0.1, inplace=False)\n",
              "          )\n",
              "        )\n",
              "        (2): BertLayer(\n",
              "          (attention): BertAttention(\n",
              "            (self): BertSelfAttention(\n",
              "              (query): Linear(in_features=768, out_features=768, bias=True)\n",
              "              (key): Linear(in_features=768, out_features=768, bias=True)\n",
              "              (value): Linear(in_features=768, out_features=768, bias=True)\n",
              "              (dropout): Dropout(p=0.1, inplace=False)\n",
              "            )\n",
              "            (output): BertSelfOutput(\n",
              "              (dense): Linear(in_features=768, out_features=768, bias=True)\n",
              "              (LayerNorm): LayerNorm((768,), eps=1e-12, elementwise_affine=True)\n",
              "              (dropout): Dropout(p=0.1, inplace=False)\n",
              "            )\n",
              "          )\n",
              "          (intermediate): BertIntermediate(\n",
              "            (dense): Linear(in_features=768, out_features=3072, bias=True)\n",
              "          )\n",
              "          (output): BertOutput(\n",
              "            (dense): Linear(in_features=3072, out_features=768, bias=True)\n",
              "            (LayerNorm): LayerNorm((768,), eps=1e-12, elementwise_affine=True)\n",
              "            (dropout): Dropout(p=0.1, inplace=False)\n",
              "          )\n",
              "        )\n",
              "        (3): BertLayer(\n",
              "          (attention): BertAttention(\n",
              "            (self): BertSelfAttention(\n",
              "              (query): Linear(in_features=768, out_features=768, bias=True)\n",
              "              (key): Linear(in_features=768, out_features=768, bias=True)\n",
              "              (value): Linear(in_features=768, out_features=768, bias=True)\n",
              "              (dropout): Dropout(p=0.1, inplace=False)\n",
              "            )\n",
              "            (output): BertSelfOutput(\n",
              "              (dense): Linear(in_features=768, out_features=768, bias=True)\n",
              "              (LayerNorm): LayerNorm((768,), eps=1e-12, elementwise_affine=True)\n",
              "              (dropout): Dropout(p=0.1, inplace=False)\n",
              "            )\n",
              "          )\n",
              "          (intermediate): BertIntermediate(\n",
              "            (dense): Linear(in_features=768, out_features=3072, bias=True)\n",
              "          )\n",
              "          (output): BertOutput(\n",
              "            (dense): Linear(in_features=3072, out_features=768, bias=True)\n",
              "            (LayerNorm): LayerNorm((768,), eps=1e-12, elementwise_affine=True)\n",
              "            (dropout): Dropout(p=0.1, inplace=False)\n",
              "          )\n",
              "        )\n",
              "        (4): BertLayer(\n",
              "          (attention): BertAttention(\n",
              "            (self): BertSelfAttention(\n",
              "              (query): Linear(in_features=768, out_features=768, bias=True)\n",
              "              (key): Linear(in_features=768, out_features=768, bias=True)\n",
              "              (value): Linear(in_features=768, out_features=768, bias=True)\n",
              "              (dropout): Dropout(p=0.1, inplace=False)\n",
              "            )\n",
              "            (output): BertSelfOutput(\n",
              "              (dense): Linear(in_features=768, out_features=768, bias=True)\n",
              "              (LayerNorm): LayerNorm((768,), eps=1e-12, elementwise_affine=True)\n",
              "              (dropout): Dropout(p=0.1, inplace=False)\n",
              "            )\n",
              "          )\n",
              "          (intermediate): BertIntermediate(\n",
              "            (dense): Linear(in_features=768, out_features=3072, bias=True)\n",
              "          )\n",
              "          (output): BertOutput(\n",
              "            (dense): Linear(in_features=3072, out_features=768, bias=True)\n",
              "            (LayerNorm): LayerNorm((768,), eps=1e-12, elementwise_affine=True)\n",
              "            (dropout): Dropout(p=0.1, inplace=False)\n",
              "          )\n",
              "        )\n",
              "        (5): BertLayer(\n",
              "          (attention): BertAttention(\n",
              "            (self): BertSelfAttention(\n",
              "              (query): Linear(in_features=768, out_features=768, bias=True)\n",
              "              (key): Linear(in_features=768, out_features=768, bias=True)\n",
              "              (value): Linear(in_features=768, out_features=768, bias=True)\n",
              "              (dropout): Dropout(p=0.1, inplace=False)\n",
              "            )\n",
              "            (output): BertSelfOutput(\n",
              "              (dense): Linear(in_features=768, out_features=768, bias=True)\n",
              "              (LayerNorm): LayerNorm((768,), eps=1e-12, elementwise_affine=True)\n",
              "              (dropout): Dropout(p=0.1, inplace=False)\n",
              "            )\n",
              "          )\n",
              "          (intermediate): BertIntermediate(\n",
              "            (dense): Linear(in_features=768, out_features=3072, bias=True)\n",
              "          )\n",
              "          (output): BertOutput(\n",
              "            (dense): Linear(in_features=3072, out_features=768, bias=True)\n",
              "            (LayerNorm): LayerNorm((768,), eps=1e-12, elementwise_affine=True)\n",
              "            (dropout): Dropout(p=0.1, inplace=False)\n",
              "          )\n",
              "        )\n",
              "        (6): BertLayer(\n",
              "          (attention): BertAttention(\n",
              "            (self): BertSelfAttention(\n",
              "              (query): Linear(in_features=768, out_features=768, bias=True)\n",
              "              (key): Linear(in_features=768, out_features=768, bias=True)\n",
              "              (value): Linear(in_features=768, out_features=768, bias=True)\n",
              "              (dropout): Dropout(p=0.1, inplace=False)\n",
              "            )\n",
              "            (output): BertSelfOutput(\n",
              "              (dense): Linear(in_features=768, out_features=768, bias=True)\n",
              "              (LayerNorm): LayerNorm((768,), eps=1e-12, elementwise_affine=True)\n",
              "              (dropout): Dropout(p=0.1, inplace=False)\n",
              "            )\n",
              "          )\n",
              "          (intermediate): BertIntermediate(\n",
              "            (dense): Linear(in_features=768, out_features=3072, bias=True)\n",
              "          )\n",
              "          (output): BertOutput(\n",
              "            (dense): Linear(in_features=3072, out_features=768, bias=True)\n",
              "            (LayerNorm): LayerNorm((768,), eps=1e-12, elementwise_affine=True)\n",
              "            (dropout): Dropout(p=0.1, inplace=False)\n",
              "          )\n",
              "        )\n",
              "        (7): BertLayer(\n",
              "          (attention): BertAttention(\n",
              "            (self): BertSelfAttention(\n",
              "              (query): Linear(in_features=768, out_features=768, bias=True)\n",
              "              (key): Linear(in_features=768, out_features=768, bias=True)\n",
              "              (value): Linear(in_features=768, out_features=768, bias=True)\n",
              "              (dropout): Dropout(p=0.1, inplace=False)\n",
              "            )\n",
              "            (output): BertSelfOutput(\n",
              "              (dense): Linear(in_features=768, out_features=768, bias=True)\n",
              "              (LayerNorm): LayerNorm((768,), eps=1e-12, elementwise_affine=True)\n",
              "              (dropout): Dropout(p=0.1, inplace=False)\n",
              "            )\n",
              "          )\n",
              "          (intermediate): BertIntermediate(\n",
              "            (dense): Linear(in_features=768, out_features=3072, bias=True)\n",
              "          )\n",
              "          (output): BertOutput(\n",
              "            (dense): Linear(in_features=3072, out_features=768, bias=True)\n",
              "            (LayerNorm): LayerNorm((768,), eps=1e-12, elementwise_affine=True)\n",
              "            (dropout): Dropout(p=0.1, inplace=False)\n",
              "          )\n",
              "        )\n",
              "        (8): BertLayer(\n",
              "          (attention): BertAttention(\n",
              "            (self): BertSelfAttention(\n",
              "              (query): Linear(in_features=768, out_features=768, bias=True)\n",
              "              (key): Linear(in_features=768, out_features=768, bias=True)\n",
              "              (value): Linear(in_features=768, out_features=768, bias=True)\n",
              "              (dropout): Dropout(p=0.1, inplace=False)\n",
              "            )\n",
              "            (output): BertSelfOutput(\n",
              "              (dense): Linear(in_features=768, out_features=768, bias=True)\n",
              "              (LayerNorm): LayerNorm((768,), eps=1e-12, elementwise_affine=True)\n",
              "              (dropout): Dropout(p=0.1, inplace=False)\n",
              "            )\n",
              "          )\n",
              "          (intermediate): BertIntermediate(\n",
              "            (dense): Linear(in_features=768, out_features=3072, bias=True)\n",
              "          )\n",
              "          (output): BertOutput(\n",
              "            (dense): Linear(in_features=3072, out_features=768, bias=True)\n",
              "            (LayerNorm): LayerNorm((768,), eps=1e-12, elementwise_affine=True)\n",
              "            (dropout): Dropout(p=0.1, inplace=False)\n",
              "          )\n",
              "        )\n",
              "        (9): BertLayer(\n",
              "          (attention): BertAttention(\n",
              "            (self): BertSelfAttention(\n",
              "              (query): Linear(in_features=768, out_features=768, bias=True)\n",
              "              (key): Linear(in_features=768, out_features=768, bias=True)\n",
              "              (value): Linear(in_features=768, out_features=768, bias=True)\n",
              "              (dropout): Dropout(p=0.1, inplace=False)\n",
              "            )\n",
              "            (output): BertSelfOutput(\n",
              "              (dense): Linear(in_features=768, out_features=768, bias=True)\n",
              "              (LayerNorm): LayerNorm((768,), eps=1e-12, elementwise_affine=True)\n",
              "              (dropout): Dropout(p=0.1, inplace=False)\n",
              "            )\n",
              "          )\n",
              "          (intermediate): BertIntermediate(\n",
              "            (dense): Linear(in_features=768, out_features=3072, bias=True)\n",
              "          )\n",
              "          (output): BertOutput(\n",
              "            (dense): Linear(in_features=3072, out_features=768, bias=True)\n",
              "            (LayerNorm): LayerNorm((768,), eps=1e-12, elementwise_affine=True)\n",
              "            (dropout): Dropout(p=0.1, inplace=False)\n",
              "          )\n",
              "        )\n",
              "        (10): BertLayer(\n",
              "          (attention): BertAttention(\n",
              "            (self): BertSelfAttention(\n",
              "              (query): Linear(in_features=768, out_features=768, bias=True)\n",
              "              (key): Linear(in_features=768, out_features=768, bias=True)\n",
              "              (value): Linear(in_features=768, out_features=768, bias=True)\n",
              "              (dropout): Dropout(p=0.1, inplace=False)\n",
              "            )\n",
              "            (output): BertSelfOutput(\n",
              "              (dense): Linear(in_features=768, out_features=768, bias=True)\n",
              "              (LayerNorm): LayerNorm((768,), eps=1e-12, elementwise_affine=True)\n",
              "              (dropout): Dropout(p=0.1, inplace=False)\n",
              "            )\n",
              "          )\n",
              "          (intermediate): BertIntermediate(\n",
              "            (dense): Linear(in_features=768, out_features=3072, bias=True)\n",
              "          )\n",
              "          (output): BertOutput(\n",
              "            (dense): Linear(in_features=3072, out_features=768, bias=True)\n",
              "            (LayerNorm): LayerNorm((768,), eps=1e-12, elementwise_affine=True)\n",
              "            (dropout): Dropout(p=0.1, inplace=False)\n",
              "          )\n",
              "        )\n",
              "        (11): BertLayer(\n",
              "          (attention): BertAttention(\n",
              "            (self): BertSelfAttention(\n",
              "              (query): Linear(in_features=768, out_features=768, bias=True)\n",
              "              (key): Linear(in_features=768, out_features=768, bias=True)\n",
              "              (value): Linear(in_features=768, out_features=768, bias=True)\n",
              "              (dropout): Dropout(p=0.1, inplace=False)\n",
              "            )\n",
              "            (output): BertSelfOutput(\n",
              "              (dense): Linear(in_features=768, out_features=768, bias=True)\n",
              "              (LayerNorm): LayerNorm((768,), eps=1e-12, elementwise_affine=True)\n",
              "              (dropout): Dropout(p=0.1, inplace=False)\n",
              "            )\n",
              "          )\n",
              "          (intermediate): BertIntermediate(\n",
              "            (dense): Linear(in_features=768, out_features=3072, bias=True)\n",
              "          )\n",
              "          (output): BertOutput(\n",
              "            (dense): Linear(in_features=3072, out_features=768, bias=True)\n",
              "            (LayerNorm): LayerNorm((768,), eps=1e-12, elementwise_affine=True)\n",
              "            (dropout): Dropout(p=0.1, inplace=False)\n",
              "          )\n",
              "        )\n",
              "      )\n",
              "    )\n",
              "    (pooler): BertPooler(\n",
              "      (dense): Linear(in_features=768, out_features=768, bias=True)\n",
              "      (activation): Tanh()\n",
              "    )\n",
              "  )\n",
              "  (dropout): Dropout(p=0.1, inplace=False)\n",
              "  (classifier): Linear(in_features=768, out_features=3, bias=True)\n",
              ")"
            ]
          },
          "metadata": {
            "tags": []
          },
          "execution_count": 164
        }
      ]
    },
    {
      "cell_type": "code",
      "metadata": {
        "colab": {
          "base_uri": "https://localhost:8080/"
        },
        "id": "oc4Qxfw1Frbc",
        "outputId": "8b4a2066-424d-46a1-ea59-d800b6b88e05"
      },
      "source": [
        "# Get all of the model's parameters as a list of tuples.\n",
        "params = list(model.named_parameters())\n",
        "\n",
        "print('The BERT model has {:} different named parameters.\\n'.format(len(params)))\n",
        "\n",
        "print('==== Embedding Layer ====\\n')\n",
        "\n",
        "for p in params[0:5]:\n",
        "    print(\"{:<55} {:>12}\".format(p[0], str(tuple(p[1].size()))))\n",
        "\n",
        "print('\\n==== First Transformer ====\\n')\n",
        "\n",
        "for p in params[5:21]:\n",
        "    print(\"{:<55} {:>12}\".format(p[0], str(tuple(p[1].size()))))\n",
        "\n",
        "print('\\n==== Output Layer ====\\n')\n",
        "\n",
        "for p in params[-4:]:\n",
        "    print(\"{:<55} {:>12}\".format(p[0], str(tuple(p[1].size()))))"
      ],
      "execution_count": 165,
      "outputs": [
        {
          "output_type": "stream",
          "text": [
            "The BERT model has 201 different named parameters.\n",
            "\n",
            "==== Embedding Layer ====\n",
            "\n",
            "bert.embeddings.word_embeddings.weight                  (30522, 768)\n",
            "bert.embeddings.position_embeddings.weight                (512, 768)\n",
            "bert.embeddings.token_type_embeddings.weight                (2, 768)\n",
            "bert.embeddings.LayerNorm.weight                              (768,)\n",
            "bert.embeddings.LayerNorm.bias                                (768,)\n",
            "\n",
            "==== First Transformer ====\n",
            "\n",
            "bert.encoder.layer.0.attention.self.query.weight          (768, 768)\n",
            "bert.encoder.layer.0.attention.self.query.bias                (768,)\n",
            "bert.encoder.layer.0.attention.self.key.weight            (768, 768)\n",
            "bert.encoder.layer.0.attention.self.key.bias                  (768,)\n",
            "bert.encoder.layer.0.attention.self.value.weight          (768, 768)\n",
            "bert.encoder.layer.0.attention.self.value.bias                (768,)\n",
            "bert.encoder.layer.0.attention.output.dense.weight        (768, 768)\n",
            "bert.encoder.layer.0.attention.output.dense.bias              (768,)\n",
            "bert.encoder.layer.0.attention.output.LayerNorm.weight        (768,)\n",
            "bert.encoder.layer.0.attention.output.LayerNorm.bias          (768,)\n",
            "bert.encoder.layer.0.intermediate.dense.weight           (3072, 768)\n",
            "bert.encoder.layer.0.intermediate.dense.bias                 (3072,)\n",
            "bert.encoder.layer.0.output.dense.weight                 (768, 3072)\n",
            "bert.encoder.layer.0.output.dense.bias                        (768,)\n",
            "bert.encoder.layer.0.output.LayerNorm.weight                  (768,)\n",
            "bert.encoder.layer.0.output.LayerNorm.bias                    (768,)\n",
            "\n",
            "==== Output Layer ====\n",
            "\n",
            "bert.pooler.dense.weight                                  (768, 768)\n",
            "bert.pooler.dense.bias                                        (768,)\n",
            "classifier.weight                                           (3, 768)\n",
            "classifier.bias                                                 (3,)\n"
          ],
          "name": "stdout"
        }
      ]
    },
    {
      "cell_type": "markdown",
      "metadata": {
        "id": "D6TKgyUzPIQc"
      },
      "source": [
        "## 4.1. Define Model"
      ]
    },
    {
      "cell_type": "code",
      "metadata": {
        "id": "YUAH8qQSMnn1"
      },
      "source": [
        "def f1_score_func(preds, labels):\n",
        "  preds_flat = np.argmax(preds, axis=1).flatten()\n",
        "  labels_flat = labels.flatten()\n",
        "  return f1_score(labels_flat, preds_flat, average='weighted')\n",
        "\n",
        "def accuracy_per_class(preds, labels):\n",
        "  label_dict_inverse = {v: k for k, v in label_dict.items()}  \n",
        "  preds_flat = np.argmax(preds, axis=1).flatten()\n",
        "  labels_flat = labels.flatten()\n",
        "\n",
        "  for label in np.unique(labels_flat):\n",
        "    y_preds = preds_flat[labels_flat==label]\n",
        "    y_true = labels_flat[labels_flat==label]\n",
        "    print(f'Class: {label_dict_inverse[label]}')\n",
        "    print(f'Accuracy: {len(y_preds[y_preds==label])}/{len(y_true)}' + ', ' + str(len(y_preds[y_preds==label])/len(y_true)) + '\\n')\n",
        "\n",
        "def evaluate(model, dataloader_val, device):\n",
        "  model.eval()\n",
        "  loss_val_total = 0\n",
        "  predictions, true_vals = [], []\n",
        "    \n",
        "  for batch in dataloader_val:   \n",
        "    batch = tuple(b.to(device) for b in batch)\n",
        "    inputs = {'input_ids':      batch[0],\n",
        "              'attention_mask': batch[1],\n",
        "              'labels':         batch[2],\n",
        "              }\n",
        "    with torch.no_grad():\n",
        "      outputs = model(**inputs)\n",
        "      \n",
        "      loss = outputs[0]\n",
        "      logits = outputs[1]\n",
        "      loss_val_total += loss.item()\n",
        "\n",
        "      logits = logits.detach().cpu().numpy()\n",
        "      label_ids = inputs['labels'].cpu().numpy()\n",
        "      predictions.append(logits)\n",
        "      true_vals.append(label_ids)\n",
        "    \n",
        "  loss_val_avg = loss_val_total/len(dataloader_val)   \n",
        "  predictions = np.concatenate(predictions, axis=0)\n",
        "  true_vals = np.concatenate(true_vals, axis=0)\n",
        "            \n",
        "  return loss_val_avg, predictions, true_vals\n",
        "\n",
        "def single_eval():\n",
        "  print(\"single eval\")\n",
        "\n",
        "def train(model, epochs,dataloader_train, dataloader_validation, optimizer, scheduler, device='cpu'):\n",
        "  model = model.to(device)\n",
        "  model.train()\n",
        "  for epoch in tqdm(range(1, epochs+1)):\n",
        "    loss_train_total = 0\n",
        "\n",
        "    progress_bar = tqdm(dataloader_train, desc='Epoch {:1d}'.format(epoch), leave=False, disable=False)\n",
        "    for batch in progress_bar:\n",
        "      model.zero_grad()\n",
        "      batch = tuple(b.to(device) for b in batch)\n",
        "      inputs = {'input_ids': batch[0],\n",
        "                'attention_mask': batch[1],\n",
        "                'labels': batch[2],\n",
        "                }       \n",
        "      outputs = model(**inputs)\n",
        "        \n",
        "      loss = outputs[0]\n",
        "      loss_train_total += loss.item()\n",
        "      loss.backward()\n",
        "\n",
        "      torch.nn.utils.clip_grad_norm_(model.parameters(), 1.0)\n",
        "\n",
        "      optimizer.step()\n",
        "      scheduler.step()\n",
        "        \n",
        "      progress_bar.set_postfix({'training_loss': '{:.3f}'.format(loss.item()/len(batch))})\n",
        "         \n",
        "        \n",
        "    #torch.save(model.state_dict(), f'./models/finetuned_BERT_epoch_{epoch}.model')   \n",
        "    torch.save(model.state_dict(), f'gdrive/MyDrive/models/finetuned_BERT_epoch_{epoch}.model')   \n",
        "\n",
        "    tqdm.write(f'\\nEpoch {epoch}')\n",
        "    \n",
        "    loss_train_avg = loss_train_total/len(dataloader_train)            \n",
        "    tqdm.write(f'Training loss: {loss_train_avg}')\n",
        "    \n",
        "    val_loss, predictions, true_vals = evaluate(model, dataloader_validation, device=device)\n",
        "    val_f1 = f1_score_func(predictions, true_vals)\n",
        "    tqdm.write(f'Validation loss: {val_loss}')\n",
        "    tqdm.write(f'F1 Score (Weighted): {val_f1}')"
      ],
      "execution_count": 166,
      "outputs": []
    },
    {
      "cell_type": "markdown",
      "metadata": {
        "id": "Jz5Qlp6hsMDj"
      },
      "source": [
        "## 4.2. Verbose Model"
      ]
    },
    {
      "cell_type": "code",
      "metadata": {
        "id": "yg1hffmqsQzk"
      },
      "source": [
        "# Function to calculate the accuracy of our predictions vs labels\n",
        "def flat_accuracy(preds, labels):\n",
        "    pred_flat = np.argmax(preds, axis=1).flatten()\n",
        "    labels_flat = labels.flatten()\n",
        "    return np.sum(pred_flat == labels_flat) / len(labels_flat)\n",
        "\n",
        "def format_time(elapsed):\n",
        "    '''\n",
        "    Takes a time in seconds and returns a string hh:mm:ss\n",
        "    '''\n",
        "    # Round to the nearest second.\n",
        "    elapsed_rounded = int(round((elapsed)))\n",
        "    \n",
        "    # Format as hh:mm:ss\n",
        "    return str(datetime.timedelta(seconds=elapsed_rounded))\n",
        "\n",
        "def train_verbose_model(model, epochs,dataloader_train, dataloader_validation, optimizer, scheduler, device='cpu'):\n",
        "  # We'll store a number of quantities such as training and validation loss, \n",
        "  # validation accuracy, and timings.\n",
        "  training_stats = []\n",
        "\n",
        "  # Measure the total training time for the whole run.\n",
        "  total_t0 = time.time()\n",
        "\n",
        "  # For each epoch...\n",
        "  for epoch_i in range(0, epochs):\n",
        "      # ========================================\n",
        "      #               Training\n",
        "      # ========================================\n",
        "      \n",
        "      # Perform one full pass over the training set.\n",
        "      print(\"\")\n",
        "      print('======== Epoch {:} / {:} ========'.format(epoch_i + 1, epochs))\n",
        "      print('Training...')\n",
        "\n",
        "      # Measure how long the training epoch takes.\n",
        "      t0 = time.time()\n",
        "\n",
        "      # Reset the total loss for this epoch.\n",
        "      total_train_loss = 0\n",
        "\n",
        "      # Put the model into training mode. Don't be mislead--the call to \n",
        "      # `train` just changes the *mode*, it doesn't *perform* the training.\n",
        "      # `dropout` and `batchnorm` layers behave differently during training\n",
        "      # vs. test (source: https://stackoverflow.com/questions/51433378/what-does-model-train-do-in-pytorch)\n",
        "      model.train()\n",
        "\n",
        "      # For each batch of training data...\n",
        "      for step, batch in enumerate(dataloader_train):\n",
        "\n",
        "          # Progress update every 40 batches.\n",
        "          #if step % 40 == 0 and not step == 0:\n",
        "          if step % 200 == 0 and not step == 0:\n",
        "              # Calculate elapsed time in minutes.\n",
        "              elapsed = format_time(time.time() - t0)\n",
        "              \n",
        "              # Report progress.\n",
        "              print('  Batch {:>5,}  of  {:>5,}.    Elapsed: {:}.'.format(step, len(dataloader_train), elapsed))\n",
        "\n",
        "          # Unpack this training batch from our dataloader. \n",
        "          #\n",
        "          # As we unpack the batch, we'll also copy each tensor to the GPU using the \n",
        "          # `to` method.\n",
        "          #\n",
        "          # `batch` contains three pytorch tensors:\n",
        "          #   [0]: input ids \n",
        "          #   [1]: attention masks\n",
        "          #   [2]: labels \n",
        "          b_input_ids = batch[0].to(device)\n",
        "          b_input_mask = batch[1].to(device)\n",
        "          b_labels = batch[2].to(device)\n",
        "\n",
        "          # Always clear any previously calculated gradients before performing a\n",
        "          # backward pass. PyTorch doesn't do this automatically because \n",
        "          # accumulating the gradients is \"convenient while training RNNs\". \n",
        "          # (source: https://stackoverflow.com/questions/48001598/why-do-we-need-to-call-zero-grad-in-pytorch)\n",
        "          model.zero_grad()        \n",
        "\n",
        "          # Perform a forward pass (evaluate the model on this training batch).\n",
        "          # In PyTorch, calling `model` will in turn call the model's `forward` \n",
        "          # function and pass down the arguments. The `forward` function is \n",
        "          # documented here: \n",
        "          # https://huggingface.co/transformers/model_doc/bert.html#bertforsequenceclassification\n",
        "          # The results are returned in a results object, documented here:\n",
        "          # https://huggingface.co/transformers/main_classes/output.html#transformers.modeling_outputs.SequenceClassifierOutput\n",
        "          # Specifically, we'll get the loss (because we provided labels) and the\n",
        "          # \"logits\"--the model outputs prior to activation.\n",
        "          result = model(b_input_ids, \n",
        "                        token_type_ids=None, \n",
        "                        attention_mask=b_input_mask, \n",
        "                        labels=b_labels,\n",
        "                        return_dict=True)\n",
        "\n",
        "          loss = result.loss\n",
        "          logits = result.logits\n",
        "\n",
        "          # Accumulate the training loss over all of the batches so that we can\n",
        "          # calculate the average loss at the end. `loss` is a Tensor containing a\n",
        "          # single value; the `.item()` function just returns the Python value \n",
        "          # from the tensor.\n",
        "          total_train_loss += loss.item()\n",
        "\n",
        "          # Perform a backward pass to calculate the gradients.\n",
        "          loss.backward()\n",
        "\n",
        "          # Clip the norm of the gradients to 1.0.\n",
        "          # This is to help prevent the \"exploding gradients\" problem.\n",
        "          torch.nn.utils.clip_grad_norm_(model.parameters(), 1.0)\n",
        "\n",
        "          # Update parameters and take a step using the computed gradient.\n",
        "          # The optimizer dictates the \"update rule\"--how the parameters are\n",
        "          # modified based on their gradients, the learning rate, etc.\n",
        "          optimizer.step()\n",
        "\n",
        "          # Update the learning rate.\n",
        "          scheduler.step()\n",
        "\n",
        "      # Calculate the average loss over all of the batches.\n",
        "      avg_train_loss = total_train_loss / len(dataloader_train)            \n",
        "      \n",
        "      # Measure how long this epoch took.\n",
        "      training_time = format_time(time.time() - t0)\n",
        "\n",
        "      print(\"\")\n",
        "      print(\"  Average training loss: {0:.2f}\".format(avg_train_loss))\n",
        "      print(\"  Training epcoh took: {:}\".format(training_time))\n",
        "          \n",
        "      # ========================================\n",
        "      #               Validation\n",
        "      # ========================================\n",
        "      # After the completion of each training epoch, measure our performance on\n",
        "      # our validation set.\n",
        "\n",
        "      print(\"\")\n",
        "      print(\"Running Validation...\")\n",
        "\n",
        "      t0 = time.time()\n",
        "\n",
        "      # Put the model in evaluation mode--the dropout layers behave differently\n",
        "      # during evaluation.\n",
        "      model.eval()\n",
        "\n",
        "      # Tracking variables \n",
        "      total_eval_accuracy = 0\n",
        "      total_eval_loss = 0\n",
        "      nb_eval_steps = 0\n",
        "\n",
        "      # Evaluate data for one epoch\n",
        "      for batch in dataloader_validation:\n",
        "          \n",
        "          # Unpack this training batch from our dataloader. \n",
        "          #\n",
        "          # As we unpack the batch, we'll also copy each tensor to the GPU using \n",
        "          # the `to` method.\n",
        "          #\n",
        "          # `batch` contains three pytorch tensors:\n",
        "          #   [0]: input ids \n",
        "          #   [1]: attention masks\n",
        "          #   [2]: labels \n",
        "          b_input_ids = batch[0].to(device)\n",
        "          b_input_mask = batch[1].to(device)\n",
        "          b_labels = batch[2].to(device)\n",
        "          \n",
        "          # Tell pytorch not to bother with constructing the compute graph during\n",
        "          # the forward pass, since this is only needed for backprop (training).\n",
        "          with torch.no_grad():        \n",
        "\n",
        "              # Forward pass, calculate logit predictions.\n",
        "              # token_type_ids is the same as the \"segment ids\", which \n",
        "              # differentiates sentence 1 and 2 in 2-sentence tasks.\n",
        "              result = model(b_input_ids, \n",
        "                            token_type_ids=None, \n",
        "                            attention_mask=b_input_mask,\n",
        "                            labels=b_labels,\n",
        "                            return_dict=True)\n",
        "\n",
        "          # Get the loss and \"logits\" output by the model. The \"logits\" are the \n",
        "          # output values prior to applying an activation function like the \n",
        "          # softmax.\n",
        "          loss = result.loss\n",
        "          logits = result.logits\n",
        "              \n",
        "          # Accumulate the validation loss.\n",
        "          total_eval_loss += loss.item()\n",
        "\n",
        "          # Move logits and labels to CPU\n",
        "          logits = logits.detach().cpu().numpy()\n",
        "          label_ids = b_labels.to('cpu').numpy()\n",
        "\n",
        "          # Calculate the accuracy for this batch of test sentences, and\n",
        "          # accumulate it over all batches.\n",
        "          total_eval_accuracy += flat_accuracy(logits, label_ids)\n",
        "          \n",
        "\n",
        "      # Report the final accuracy for this validation run.\n",
        "      avg_val_accuracy = total_eval_accuracy / len(dataloader_validation)\n",
        "      print(\"  Accuracy: {0:.2f}\".format(avg_val_accuracy))\n",
        "\n",
        "      # Calculate the average loss over all of the batches.\n",
        "      avg_val_loss = total_eval_loss / len(dataloader_validation)\n",
        "      \n",
        "      # Measure how long the validation run took.\n",
        "      validation_time = format_time(time.time() - t0)\n",
        "      \n",
        "      print(\"  Validation Loss: {0:.2f}\".format(avg_val_loss))\n",
        "      print(\"  Validation took: {:}\".format(validation_time))\n",
        "\n",
        "      # Record all statistics from this epoch.\n",
        "      training_stats.append(\n",
        "          {\n",
        "              'epoch': epoch_i + 1,\n",
        "              'Training Loss': avg_train_loss,\n",
        "              'Valid. Loss': avg_val_loss,\n",
        "              'Valid. Accur.': avg_val_accuracy,\n",
        "              'Training Time': training_time,\n",
        "              'Validation Time': validation_time\n",
        "          }\n",
        "      )\n",
        "\n",
        "  print(\"\")\n",
        "  print(\"Training complete!\")\n",
        "\n",
        "  print(\"Total training took {:} (h:mm:ss)\".format(format_time(time.time()-total_t0)))\n",
        "  return training_stats"
      ],
      "execution_count": 167,
      "outputs": []
    },
    {
      "cell_type": "markdown",
      "metadata": {
        "id": "qRWT-D4U_Pvx"
      },
      "source": [
        "## 4.3. Execute Model"
      ]
    },
    {
      "cell_type": "code",
      "metadata": {
        "colab": {
          "base_uri": "https://localhost:8080/"
        },
        "id": "AhUEl5RPMheo",
        "outputId": "3cca4215-737d-4f0f-adf3-d542ecda960a"
      },
      "source": [
        "seed_val = 17#42\n",
        "random.seed(seed_val)\n",
        "np.random.seed(seed_val)\n",
        "torch.manual_seed(seed_val)\n",
        "torch.cuda.manual_seed_all(seed_val)    \n",
        "\n",
        "#train(model, EPOCHS, dataloader_train, dataloader_validation, optimizer, scheduler, device=DEVICE)\n",
        "my_stats = train_verbose_model(model, EPOCHS, dataloader_train, dataloader_validation, optimizer, scheduler, device=DEVICE)"
      ],
      "execution_count": 168,
      "outputs": [
        {
          "output_type": "stream",
          "text": [
            "\n",
            "======== Epoch 1 / 5 ========\n",
            "Training...\n",
            "  Batch   200  of  2,166.    Elapsed: 0:01:02.\n",
            "  Batch   400  of  2,166.    Elapsed: 0:02:02.\n",
            "  Batch   600  of  2,166.    Elapsed: 0:03:02.\n",
            "  Batch   800  of  2,166.    Elapsed: 0:04:02.\n",
            "  Batch 1,000  of  2,166.    Elapsed: 0:05:02.\n",
            "  Batch 1,200  of  2,166.    Elapsed: 0:06:02.\n",
            "  Batch 1,400  of  2,166.    Elapsed: 0:07:02.\n",
            "  Batch 1,600  of  2,166.    Elapsed: 0:08:02.\n",
            "  Batch 1,800  of  2,166.    Elapsed: 0:09:03.\n",
            "  Batch 2,000  of  2,166.    Elapsed: 0:10:03.\n",
            "\n",
            "  Average training loss: 0.06\n",
            "  Training epcoh took: 0:10:53\n",
            "\n",
            "Running Validation...\n",
            "  Accuracy: 1.00\n",
            "  Validation Loss: 0.00\n",
            "  Validation took: 0:00:08\n",
            "\n",
            "======== Epoch 2 / 5 ========\n",
            "Training...\n",
            "  Batch   200  of  2,166.    Elapsed: 0:01:00.\n",
            "  Batch   400  of  2,166.    Elapsed: 0:02:00.\n",
            "  Batch   600  of  2,166.    Elapsed: 0:03:00.\n",
            "  Batch   800  of  2,166.    Elapsed: 0:04:00.\n",
            "  Batch 1,000  of  2,166.    Elapsed: 0:05:01.\n",
            "  Batch 1,200  of  2,166.    Elapsed: 0:06:01.\n",
            "  Batch 1,400  of  2,166.    Elapsed: 0:07:01.\n",
            "  Batch 1,600  of  2,166.    Elapsed: 0:08:01.\n",
            "  Batch 1,800  of  2,166.    Elapsed: 0:09:01.\n",
            "  Batch 2,000  of  2,166.    Elapsed: 0:10:01.\n",
            "\n",
            "  Average training loss: 0.01\n",
            "  Training epcoh took: 0:10:51\n",
            "\n",
            "Running Validation...\n",
            "  Accuracy: 1.00\n",
            "  Validation Loss: 0.00\n",
            "  Validation took: 0:00:08\n",
            "\n",
            "======== Epoch 3 / 5 ========\n",
            "Training...\n",
            "  Batch   200  of  2,166.    Elapsed: 0:01:00.\n",
            "  Batch   400  of  2,166.    Elapsed: 0:02:00.\n",
            "  Batch   600  of  2,166.    Elapsed: 0:03:00.\n",
            "  Batch   800  of  2,166.    Elapsed: 0:04:01.\n",
            "  Batch 1,000  of  2,166.    Elapsed: 0:05:01.\n",
            "  Batch 1,200  of  2,166.    Elapsed: 0:06:01.\n",
            "  Batch 1,400  of  2,166.    Elapsed: 0:07:02.\n",
            "  Batch 1,600  of  2,166.    Elapsed: 0:08:02.\n",
            "  Batch 1,800  of  2,166.    Elapsed: 0:09:02.\n",
            "  Batch 2,000  of  2,166.    Elapsed: 0:10:02.\n",
            "\n",
            "  Average training loss: 0.00\n",
            "  Training epcoh took: 0:10:52\n",
            "\n",
            "Running Validation...\n",
            "  Accuracy: 1.00\n",
            "  Validation Loss: 0.00\n",
            "  Validation took: 0:00:08\n",
            "\n",
            "======== Epoch 4 / 5 ========\n",
            "Training...\n",
            "  Batch   200  of  2,166.    Elapsed: 0:01:00.\n",
            "  Batch   400  of  2,166.    Elapsed: 0:02:00.\n",
            "  Batch   600  of  2,166.    Elapsed: 0:03:01.\n",
            "  Batch   800  of  2,166.    Elapsed: 0:04:01.\n",
            "  Batch 1,000  of  2,166.    Elapsed: 0:05:01.\n",
            "  Batch 1,200  of  2,166.    Elapsed: 0:06:01.\n",
            "  Batch 1,400  of  2,166.    Elapsed: 0:07:02.\n",
            "  Batch 1,600  of  2,166.    Elapsed: 0:08:02.\n",
            "  Batch 1,800  of  2,166.    Elapsed: 0:09:02.\n",
            "  Batch 2,000  of  2,166.    Elapsed: 0:10:03.\n",
            "\n",
            "  Average training loss: 0.00\n",
            "  Training epcoh took: 0:10:52\n",
            "\n",
            "Running Validation...\n",
            "  Accuracy: 1.00\n",
            "  Validation Loss: 0.00\n",
            "  Validation took: 0:00:08\n",
            "\n",
            "======== Epoch 5 / 5 ========\n",
            "Training...\n",
            "  Batch   200  of  2,166.    Elapsed: 0:01:00.\n",
            "  Batch   400  of  2,166.    Elapsed: 0:02:00.\n",
            "  Batch   600  of  2,166.    Elapsed: 0:03:01.\n",
            "  Batch   800  of  2,166.    Elapsed: 0:04:01.\n",
            "  Batch 1,000  of  2,166.    Elapsed: 0:05:01.\n",
            "  Batch 1,200  of  2,166.    Elapsed: 0:06:01.\n",
            "  Batch 1,400  of  2,166.    Elapsed: 0:07:01.\n",
            "  Batch 1,600  of  2,166.    Elapsed: 0:08:01.\n",
            "  Batch 1,800  of  2,166.    Elapsed: 0:09:02.\n",
            "  Batch 2,000  of  2,166.    Elapsed: 0:10:02.\n",
            "\n",
            "  Average training loss: 0.00\n",
            "  Training epcoh took: 0:10:52\n",
            "\n",
            "Running Validation...\n",
            "  Accuracy: 1.00\n",
            "  Validation Loss: 0.00\n",
            "  Validation took: 0:00:08\n",
            "\n",
            "Training complete!\n",
            "Total training took 0:54:59 (h:mm:ss)\n"
          ],
          "name": "stdout"
        }
      ]
    },
    {
      "cell_type": "markdown",
      "metadata": {
        "id": "VQTvJ1vRP7u4"
      },
      "source": [
        "## 5. Summary of results"
      ]
    },
    {
      "cell_type": "code",
      "metadata": {
        "id": "6O_NbXFGMukX",
        "colab": {
          "base_uri": "https://localhost:8080/",
          "height": 235
        },
        "outputId": "cba2f66a-9b4b-4a4e-fb5a-27474ca7d463"
      },
      "source": [
        "# Display floats with two decimal places.\n",
        "pd.set_option('precision', 2)\n",
        "# Create a DataFrame from our training statistics.\n",
        "df_stats = pd.DataFrame(data=my_stats)\n",
        "\n",
        "# Use the 'epoch' as the row index.\n",
        "df_stats = df_stats.set_index('epoch')\n",
        "\n",
        "# A hack to force the column headers to wrap.\n",
        "#df = df.style.set_table_styles([dict(selector=\"th\",props=[('max-width', '70px')])])\n",
        "\n",
        "# Display the table.\n",
        "df_stats"
      ],
      "execution_count": 169,
      "outputs": [
        {
          "output_type": "execute_result",
          "data": {
            "text/html": [
              "<div>\n",
              "<style scoped>\n",
              "    .dataframe tbody tr th:only-of-type {\n",
              "        vertical-align: middle;\n",
              "    }\n",
              "\n",
              "    .dataframe tbody tr th {\n",
              "        vertical-align: top;\n",
              "    }\n",
              "\n",
              "    .dataframe thead th {\n",
              "        text-align: right;\n",
              "    }\n",
              "</style>\n",
              "<table border=\"1\" class=\"dataframe\">\n",
              "  <thead>\n",
              "    <tr style=\"text-align: right;\">\n",
              "      <th></th>\n",
              "      <th>Training Loss</th>\n",
              "      <th>Valid. Loss</th>\n",
              "      <th>Valid. Accur.</th>\n",
              "      <th>Training Time</th>\n",
              "      <th>Validation Time</th>\n",
              "    </tr>\n",
              "    <tr>\n",
              "      <th>epoch</th>\n",
              "      <th></th>\n",
              "      <th></th>\n",
              "      <th></th>\n",
              "      <th></th>\n",
              "      <th></th>\n",
              "    </tr>\n",
              "  </thead>\n",
              "  <tbody>\n",
              "    <tr>\n",
              "      <th>1</th>\n",
              "      <td>6.44e-02</td>\n",
              "      <td>1.98e-04</td>\n",
              "      <td>1.0</td>\n",
              "      <td>0:10:53</td>\n",
              "      <td>0:00:08</td>\n",
              "    </tr>\n",
              "    <tr>\n",
              "      <th>2</th>\n",
              "      <td>1.03e-02</td>\n",
              "      <td>3.78e-05</td>\n",
              "      <td>1.0</td>\n",
              "      <td>0:10:51</td>\n",
              "      <td>0:00:08</td>\n",
              "    </tr>\n",
              "    <tr>\n",
              "      <th>3</th>\n",
              "      <td>6.44e-05</td>\n",
              "      <td>1.47e-05</td>\n",
              "      <td>1.0</td>\n",
              "      <td>0:10:52</td>\n",
              "      <td>0:00:08</td>\n",
              "    </tr>\n",
              "    <tr>\n",
              "      <th>4</th>\n",
              "      <td>1.14e-03</td>\n",
              "      <td>7.49e-06</td>\n",
              "      <td>1.0</td>\n",
              "      <td>0:10:52</td>\n",
              "      <td>0:00:08</td>\n",
              "    </tr>\n",
              "    <tr>\n",
              "      <th>5</th>\n",
              "      <td>1.06e-05</td>\n",
              "      <td>5.54e-06</td>\n",
              "      <td>1.0</td>\n",
              "      <td>0:10:52</td>\n",
              "      <td>0:00:08</td>\n",
              "    </tr>\n",
              "  </tbody>\n",
              "</table>\n",
              "</div>"
            ],
            "text/plain": [
              "       Training Loss  Valid. Loss  Valid. Accur. Training Time Validation Time\n",
              "epoch                                                                         \n",
              "1           6.44e-02     1.98e-04            1.0       0:10:53         0:00:08\n",
              "2           1.03e-02     3.78e-05            1.0       0:10:51         0:00:08\n",
              "3           6.44e-05     1.47e-05            1.0       0:10:52         0:00:08\n",
              "4           1.14e-03     7.49e-06            1.0       0:10:52         0:00:08\n",
              "5           1.06e-05     5.54e-06            1.0       0:10:52         0:00:08"
            ]
          },
          "metadata": {
            "tags": []
          },
          "execution_count": 169
        }
      ]
    },
    {
      "cell_type": "markdown",
      "metadata": {
        "id": "1-G03mmwH3aI"
      },
      "source": [
        "(For reference, we are using 7,695 training samples and 856 validation samples).\n",
        "\n",
        "Validation Loss is a more precise measure than accuracy, because with accuracy we don't care about the exact output value, but just which side of a threshold it falls on. \n",
        "\n",
        "If we are predicting the correct answer, but with less confidence, then validation loss will catch this, while accuracy will not."
      ]
    },
    {
      "cell_type": "code",
      "metadata": {
        "id": "68xreA9JAmG5",
        "colab": {
          "base_uri": "https://localhost:8080/",
          "height": 427
        },
        "outputId": "b76c4ef0-160d-40c6-acd8-730c2a39f1be"
      },
      "source": [
        "% matplotlib inline\n",
        "\n",
        "# Use plot styling from seaborn.\n",
        "sns.set(style='darkgrid')\n",
        "\n",
        "# Increase the plot size and font size.\n",
        "sns.set(font_scale=1.5)\n",
        "plt.rcParams[\"figure.figsize\"] = (12,6)\n",
        "\n",
        "# Plot the learning curve.\n",
        "plt.plot(df_stats['Training Loss'], 'b-o', label=\"Training\")\n",
        "plt.plot(df_stats['Valid. Loss'], 'g-o', label=\"Validation\")\n",
        "\n",
        "# Label the plot.\n",
        "plt.title(\"Training & Validation Loss\")\n",
        "plt.xlabel(\"Epoch\")\n",
        "plt.ylabel(\"Loss\")\n",
        "plt.legend()\n",
        "plt.xticks([1, 2, 3, 4])\n",
        "\n",
        "plt.show()"
      ],
      "execution_count": 170,
      "outputs": [
        {
          "output_type": "display_data",
          "data": {
            "image/png": "[encoded data removed]",
            "text/plain": [
              "<Figure size 864x432 with 1 Axes>"
            ]
          },
          "metadata": {
            "tags": []
          }
        }
      ]
    },
    {
      "cell_type": "markdown",
      "metadata": {
        "id": "6KIUhsga1P_s"
      },
      "source": [
        "##5.1 Summary of metrics"
      ]
    },
    {
      "cell_type": "code",
      "metadata": {
        "colab": {
          "base_uri": "https://localhost:8080/"
        },
        "id": "Efi7UXyX1Yci",
        "outputId": "f143e144-5ab4-4f47-d1aa-82dc2733fb9d"
      },
      "source": [
        "model = model.to(DEVICE)\n",
        "# _, predictions, true_vals = evaluate(model, dataloader_test, device=DEVICE)\n",
        "_, predictions, true_vals = evaluate(model, dataloader_validation, device=DEVICE)\n",
        "accuracy_per_class(predictions, true_vals)"
      ],
      "execution_count": 171,
      "outputs": [
        {
          "output_type": "stream",
          "text": [
            "Class: ALT\n",
            "Accuracy: 292/292, 1.0\n",
            "\n"
          ],
          "name": "stdout"
        }
      ]
    },
    {
      "cell_type": "code",
      "metadata": {
        "colab": {
          "base_uri": "https://localhost:8080/"
        },
        "id": "RkS3ENpI1n1m",
        "outputId": "bcd931c0-8730-4854-939e-16576395506d"
      },
      "source": [
        "y_pred = np.argmax(predictions, axis=1)\n",
        "#print(classification_report(true_vals, y_pred, target_names=list(label_dict.keys())))\n",
        "print(classification_report(true_vals, y_pred, target_names=[\"ALT\"]))\n",
        "#print(classification_report(true_vals, y_pred, target_names=[\"IND\",\"EQ\",\"ALT\"]))"
      ],
      "execution_count": 173,
      "outputs": [
        {
          "output_type": "stream",
          "text": [
            "              precision    recall  f1-score   support\n",
            "\n",
            "         ALT       1.00      1.00      1.00       292\n",
            "\n",
            "    accuracy                           1.00       292\n",
            "   macro avg       1.00      1.00      1.00       292\n",
            "weighted avg       1.00      1.00      1.00       292\n",
            "\n"
          ],
          "name": "stdout"
        }
      ]
    },
    {
      "cell_type": "code",
      "metadata": {
        "colab": {
          "base_uri": "https://localhost:8080/"
        },
        "id": "5FdZ67aW1yMn",
        "outputId": "e8e891a0-238a-4dd7-a051-50a04a16e7da"
      },
      "source": [
        "len(dataset_train), len(dataset_val)"
      ],
      "execution_count": 174,
      "outputs": [
        {
          "output_type": "execute_result",
          "data": {
            "text/plain": [
              "(6496, 292)"
            ]
          },
          "metadata": {
            "tags": []
          },
          "execution_count": 174
        }
      ]
    },
    {
      "cell_type": "code",
      "metadata": {
        "id": "Nd-Dbbnig5V5",
        "outputId": "999e91d0-a897-4af1-a65a-37d1ecdf5c81",
        "colab": {
          "base_uri": "https://localhost:8080/",
          "height": 35
        }
      },
      "source": [
        "%pwd"
      ],
      "execution_count": 175,
      "outputs": [
        {
          "output_type": "execute_result",
          "data": {
            "application/vnd.google.colaboratory.intrinsic+json": {
              "type": "string"
            },
            "text/plain": [
              "'/content/gdrive/MyDrive/data'"
            ]
          },
          "metadata": {
            "tags": []
          },
          "execution_count": 175
        }
      ]
    },
    {
      "cell_type": "code",
      "metadata": {
        "id": "KDfCBEzeMSNI",
        "outputId": "eec92ad1-d295-4f63-c3ae-d68f2d8806cd",
        "colab": {
          "base_uri": "https://localhost:8080/"
        }
      },
      "source": [
        "%cd clean_data/results"
      ],
      "execution_count": 176,
      "outputs": [
        {
          "output_type": "stream",
          "text": [
            "/content/gdrive/MyDrive/data/clean_data/results\n"
          ],
          "name": "stdout"
        }
      ]
    },
    {
      "cell_type": "code",
      "metadata": {
        "id": "dKIprV9aMXHH",
        "outputId": "75fd5ab4-8951-4381-95d7-277896e40c96",
        "colab": {
          "base_uri": "https://localhost:8080/"
        }
      },
      "source": [
        "out_data = raw_data[raw_data.data_type=='val']\n",
        "\n",
        "preds_flat = np.argmax(predictions, axis=1).flatten()\n",
        "labels_flat = true_vals.flatten()\n",
        "out_data['mylabels'] = labels_flat.tolist()\n",
        "out_data['myPredictions'] = preds_flat.tolist()\n",
        "\n",
        "out_data.to_csv('output_publisher_UK_Statistics_Authority.csv')"
      ],
      "execution_count": 177,
      "outputs": [
        {
          "output_type": "stream",
          "text": [
            "/usr/local/lib/python3.7/dist-packages/ipykernel_launcher.py:5: SettingWithCopyWarning: \n",
            "A value is trying to be set on a copy of a slice from a DataFrame.\n",
            "Try using .loc[row_indexer,col_indexer] = value instead\n",
            "\n",
            "See the caveats in the documentation: https://pandas.pydata.org/pandas-docs/stable/user_guide/indexing.html#returning-a-view-versus-a-copy\n",
            "  \"\"\"\n",
            "/usr/local/lib/python3.7/dist-packages/ipykernel_launcher.py:6: SettingWithCopyWarning: \n",
            "A value is trying to be set on a copy of a slice from a DataFrame.\n",
            "Try using .loc[row_indexer,col_indexer] = value instead\n",
            "\n",
            "See the caveats in the documentation: https://pandas.pydata.org/pandas-docs/stable/user_guide/indexing.html#returning-a-view-versus-a-copy\n",
            "  \n"
          ],
          "name": "stderr"
        }
      ]
    },
    {
      "cell_type": "code",
      "metadata": {
        "id": "1rPOKHoWP2jc",
        "outputId": "d2914086-aa2b-46b9-d24a-dee831333060",
        "colab": {
          "base_uri": "https://localhost:8080/"
        }
      },
      "source": [
        "%cd ..\n",
        "%cd ..\n",
        "!pwd"
      ],
      "execution_count": 178,
      "outputs": [
        {
          "output_type": "stream",
          "text": [
            "/content/gdrive/My Drive/data/clean_data\n",
            "/content/gdrive/My Drive/data\n",
            "/content/gdrive/My Drive/data\n"
          ],
          "name": "stdout"
        }
      ]
    }
  ]
}